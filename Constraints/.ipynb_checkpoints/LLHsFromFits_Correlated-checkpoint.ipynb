{
 "cells": [
  {
   "cell_type": "code",
   "execution_count": null,
   "metadata": {},
   "outputs": [],
   "source": [
    "import numpy as np \n",
    "import glob\n",
    "import os\n",
    "import re\n"
   ]
  },
  {
   "cell_type": "code",
   "execution_count": null,
   "metadata": {},
   "outputs": [],
   "source": [
    "def RunIt(rootdir, outpath):\n",
    "    count=0\n",
    "    PrintEvery=100\n",
    "    fit_dirs = []\n",
    "    fit_files = glob.glob(rootdir + \"/out*\")\n",
    "    if not fit_files :\n",
    "        print(\"WARNING: No Fit Directories Found In \" + str(rootdir) )\n",
    "        return\n",
    "    else:\n",
    "        print(\"Found \"  + str(len(fit_files)) + \" Fit Files....\")\n",
    "\n",
    "\n",
    "    outfile = open(outpath, \"w\")\n",
    "\n",
    "    print(\"Writing Output to: \"  + str(outfile))\n",
    "\n",
    "    for fit_filen in fit_files:\n",
    "        try:\n",
    "            fit_file = open(str(fit_filen),'r')\n",
    "        except:\n",
    "            print(\"WARNING: \" + str(fit_filen) + \" Does Not Exist!\" )\n",
    "        else:\n",
    "            try:\n",
    "                lines= fit_file.readlines()     \n",
    "            except:\n",
    "                print(\"WARNING: \" + str(fit_filen) + \" Is Empty!\" )\n",
    "                break\n",
    "            HeaderLine=lines[2]\n",
    "            Param=HeaderLine.split(\"_\")[0]\n",
    "            ParamNum=HeaderLine[(len(Param)+1):].split(\"+\")[0].split(\"-\")[0]\n",
    "\n",
    "            try:\n",
    "                shift = float(re.findall(r\".\\dp\\d\\d\\d\", str(HeaderLine))[0].replace(\"p\", \".\"))\n",
    "            except:\n",
    "                try:\n",
    "                    shift = float(re.findall(r\".\\dp\\d\\d\", str(HeaderLine))[0].replace(\"p\", \".\"))\n",
    "                except:\n",
    "                    try:\n",
    "                        shift = float(re.findall(r\".\\dp\\d\", str(HeaderLine))[0].replace(\"p\", \".\"))\n",
    "                    except:\n",
    "                        if \"_0.dat\" in str(HeaderLine):\n",
    "                            shift = 0\n",
    "                        else:\n",
    "                            print(\"WARNING: Unable to resolve shift. Setting shift to nan.\")\n",
    "                            shift = float('NaN')\n",
    "            \n",
    "\n",
    "            for line in lines[3:-1]:\n",
    "                if \"DOM \" in line:\n",
    "                    if not \"Bad\" in line:\n",
    "                        DOM=int(line.split()[1])\n",
    "                        \n",
    "                if 'LLH' in line:\n",
    "                    LLH=line.split()[0].split(\"=\")[1]\n",
    "                    DT=line.split(\"=\")[2][0:-3]\n",
    "                   # if(LLH<4):\n",
    "                    writeline=str(Param)+ \" \"+ str(ParamNum)+\" \" +str(shift) + \" \" + str(LLH) + \" \" + str(DOM) + \" \" + str(DT)\n",
    "                #    print writeline\n",
    "                #    print line\n",
    "                    outfile.write(writeline + \"\\n\")                    \n",
    "\n",
    "                    count=count+1\n",
    "                    if(count%PrintEvery==0):\n",
    "                        print(\"Absorbed \"+str(count) + \" LLHs\")\n",
    "            fit_file.close()\n",
    "    outfile.close()\n",
    "\n",
    "    print(\"Done!\")\n",
    "\n",
    "\n",
    "\n"
   ]
  },
  {
   "cell_type": "code",
   "execution_count": null,
   "metadata": {},
   "outputs": [],
   "source": [
    "RunIt(\"/data/ana/NuFSGenMC/MultiSim/MultisimOutputs/Constraints/ConstraintJobsOut/AmpAmp2/\",\"/data/ana/NuFSGenMC/MultiSim/MultisimOutputs/Constraints/LLHs/AmpAmp2.txt\")"
   ]
  },
  {
   "cell_type": "code",
   "execution_count": null,
   "metadata": {},
   "outputs": [],
   "source": [
    "RunIt(\"/data/ana/NuFSGenMC/MultiSim/MultisimOutputs/Constraints/ConstraintJobsOut/PhsPhs/\",\"/data/ana/NuFSGenMC/MultiSim/MultisimOutputs/Constraints/LLHs/PhsPhs.txt\")"
   ]
  },
  {
   "cell_type": "code",
   "execution_count": null,
   "metadata": {},
   "outputs": [],
   "source": [
    "RunIt(\"/data/ana/NuFSGenMC/MultiSim/MultisimOutputs/Constraints/ConstraintJobsOut/AmpPhs/\",\"/data/ana/NuFSGenMC/MultiSim/MultisimOutputs/Constraints/LLHs/AmpPhs.txt\")"
   ]
  }
 ],
 "metadata": {
  "kernelspec": {
   "display_name": "Python 2",
   "language": "python",
   "name": "python2"
  },
  "language_info": {
   "codemirror_mode": {
    "name": "ipython",
    "version": 2
   },
   "file_extension": ".py",
   "mimetype": "text/x-python",
   "name": "python",
   "nbconvert_exporter": "python",
   "pygments_lexer": "ipython2",
   "version": "2.7.13"
  }
 },
 "nbformat": 4,
 "nbformat_minor": 2
}
