{
 "cells": [
  {
   "cell_type": "code",
   "execution_count": null,
   "metadata": {},
   "outputs": [],
   "source": [
    "import numpy as np\n",
    "import pylab\n",
    "from scipy.interpolate import interp1d\n",
    "from scipy.optimize import brentq\n",
    "from numpy.polynomial import polynomial\n",
    "%matplotlib inline"
   ]
  },
  {
   "cell_type": "code",
   "execution_count": null,
   "metadata": {},
   "outputs": [],
   "source": [
    "PhsWidths=np.loadtxt(\"/data/ana/NuFSGenMC/MultiSim/MultisimOutputs/Constraints/Widths/PhsWidths.txt\")"
   ]
  },
  {
   "cell_type": "code",
   "execution_count": null,
   "metadata": {},
   "outputs": [],
   "source": [
    "pylab.figure(figsize=(8,3),dpi=300)\n",
    "PhsWidths=np.array(PhsWidths)\n",
    "pylab.errorbar(PhsWidths[:,0],PhsWidths[:,1],yerr=(PhsWidths[:,3]-PhsWidths[:,1]),label=\"1 sigma\",fmt='o',capsize=5,color='DarkBlue',linewidth=1,capthick=1,alpha=0.5)\n",
    "pylab.plot(PhsWidths[:,0],PhsWidths[:,1],'o',label=\"Minimum position\",color='black')\n",
    "pylab.ylim(-0.4,0.47)\n",
    "pylab.xlim(-0.5,9.5)\n",
    "pylab.xlabel(\"Fourier mode (phase)\")\n",
    "pylab.ylabel(r\"$\\Delta \\phi$ (rad)\")\n",
    "pylab.plot([-0.5,9.5],[0,0],'--',color='DarkGreen')\n",
    "pylab.yticks([-3.142/8.,0,3.142/8.],[r\"-$\\pi$/8\",0,r\"$\\pi$/8\"])\n",
    "pylab.xticks(np.arange(0,10))\n",
    "for i in range(0,9):\n",
    "    Label=r'$\\pm${0:.2f}'.format((PhsWidths[i,3]-PhsWidths[i,2])/2)\n",
    "    pylab.text(i+1.-0.4,0.4,Label)\n",
    "\n",
    "pylab.tight_layout()\n",
    "pylab.savefig(\"/data/ana/NuFSGenMC/MultiSim/MultisimOutputs/Constraints/Widths/Plots/PhsWidths.png\",dpi=300,bbox_inches='tight')\n"
   ]
  },
  {
   "cell_type": "code",
   "execution_count": null,
   "metadata": {},
   "outputs": [],
   "source": [
    "AmpWidths=np.loadtxt(\"/data/ana/NuFSGenMC/MultiSim/MultisimOutputs/Constraints/Widths/AmpWidths.txt\")"
   ]
  },
  {
   "cell_type": "code",
   "execution_count": null,
   "metadata": {},
   "outputs": [],
   "source": [
    "pylab.figure(figsize=(8,3),dpi=300)\n",
    "modes=AmpWidths[:,0]\n",
    "AmpWidths=np.array(AmpWidths)\n",
    "pylab.errorbar(AmpWidths[:,0],AmpWidths[:,1],yerr=(AmpWidths[:,3]-AmpWidths[:,1]),label=\"1 sigma\",fmt='o',capsize=5,color='DarkRed',linewidth=1,capthick=1)\n",
    "pylab.plot(modes,AmpWidths[:,0],'o',label=\"Minimum position\",color='black')\n",
    "pylab.ylim(-0.35,0.35)\n",
    "pylab.xlim(-0.5,9.5)\n",
    "pylab.xlabel(\"Fourier mode (amp)\")\n",
    "pylab.ylabel(r\"$\\Delta A$ / A\")\n",
    "pylab.plot([-0.5,9.5],[0,0],'--',color='DarkGreen')\n",
    "pylab.yticks(np.arange(-0.3,0.4,0.1))\n",
    "pylab.xticks(np.arange(0,10))\n",
    "for i in range(0,10):\n",
    "    Label=r'$\\pm${0:.1f}'.format((AmpWidths[i,3]-AmpWidths[i,1])*100.)+str(\"%\")\n",
    "    pylab.text(AmpWidths[i,0]-0.4,0.3,Label)\n",
    "pylab.plot([-0.5,9.5],[0,0],'--',color='DarkGreen')\n",
    "pylab.tight_layout()\n",
    "pylab.savefig(\"/data/ana/NuFSGenMC/MultiSim/MultisimOutputs/Constraints/Widths/Plots/AmpWidths.png\",dpi=300,bbox_inches='tight')\n"
   ]
  },
  {
   "cell_type": "code",
   "execution_count": null,
   "metadata": {},
   "outputs": [],
   "source": [
    "AmpWidths"
   ]
  },
  {
   "cell_type": "code",
   "execution_count": null,
   "metadata": {},
   "outputs": [],
   "source": []
  }
 ],
 "metadata": {
  "kernelspec": {
   "display_name": "Python 2",
   "language": "python",
   "name": "python2"
  },
  "language_info": {
   "codemirror_mode": {
    "name": "ipython",
    "version": 2
   },
   "file_extension": ".py",
   "mimetype": "text/x-python",
   "name": "python",
   "nbconvert_exporter": "python",
   "pygments_lexer": "ipython2",
   "version": "2.7.13"
  }
 },
 "nbformat": 4,
 "nbformat_minor": 2
}
