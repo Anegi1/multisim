{
 "cells": [
  {
   "cell_type": "code",
   "execution_count": null,
   "metadata": {},
   "outputs": [],
   "source": [
    "# This notebook reads in LLH lists and converts them into \n",
    "#  1) plots of the LLH parabola\n",
    "#  2) text files listing the width in the correlated directions"
   ]
  },
  {
   "cell_type": "code",
   "execution_count": null,
   "metadata": {},
   "outputs": [],
   "source": [
    "import numpy as np\n",
    "import pylab\n",
    "from scipy.interpolate import interp1d\n",
    "from scipy.optimize import brentq\n",
    "import subprocess\n",
    "\n",
    "from numpy.polynomial import polynomial\n",
    "%matplotlib inline"
   ]
  },
  {
   "cell_type": "code",
   "execution_count": null,
   "metadata": {},
   "outputs": [],
   "source": [
    "def ExtractAndPlot(infile, outfile,plotdir,BadDoms=[23,51],xlim=3,ylim=5):\n",
    "    MissingList=[]\n",
    "    LLHCap=ylim\n",
    "    dat=np.loadtxt(infile,dtype='string')\n",
    "    pylab.hist(np.array(dat[:,3],dtype='float'),bins=100)\n",
    "    pylab.xlabel(\"All LLHs\")\n",
    "    ParamsPresent= np.unique(dat[:,0])\n",
    "    LLHDict=dict()\n",
    "    for Param in ParamsPresent:\n",
    "        mask=(dat[:,0]==Param)\n",
    "        subdat=dat[mask,1:]\n",
    "        ParamNums=np.unique(subdat[:,0])\n",
    "        LLHDict[Param]=dict()\n",
    "\n",
    "        for ParamNum in ParamNums:\n",
    "            mask2=(subdat[:,0]==ParamNum)\n",
    "            subsubdat=subdat[mask2,1:]\n",
    "            shifts=np.unique(subsubdat[:,0])\n",
    "            LLHDict[Param][ParamNum]=dict()\n",
    "            for shift in shifts:\n",
    "                mask3=(subsubdat[:,0]==shift)\n",
    "                subsubsubdat=np.array(subsubdat[mask3,1:],dtype='float')\n",
    "               # print (subsubsubdat[:,1])\n",
    "                SumLLH=0\n",
    "                DomCount=0\n",
    "                for i in range(1,61):\n",
    "                    LLHsThisDom=subsubsubdat[subsubsubdat[:,1]==i,0]\n",
    "                    if(len(LLHsThisDom)>0):\n",
    "                        SumLLH+=LLHsThisDom[0]\n",
    "                        DomCount+=1\n",
    "                    else:\n",
    "                        if(i not in BadDoms):\n",
    "                            MissingList.append([Param, ParamNum, shift, i])\n",
    "                print DomCount, shift\n",
    "\n",
    "                if(DomCount>=(60-len(BadDoms))):\n",
    "                    # Little hack- If one LLH is missing, we let it slide... and multuply by 59/58.\n",
    "                    LLHDict[Param][ParamNum][float(shift)]=SumLLH  * (61-len(BadDoms))/DomCount\n",
    "\n",
    "    for Param in LLHDict.keys():\n",
    "        NewWidths=[]\n",
    "        for ParamNum in LLHDict[Param].keys():\n",
    "            vals=np.arange(-3,3,0.001)\n",
    "            ThesePoints=LLHDict[Param][ParamNum]\n",
    "            if len(ThesePoints.values())<2:\n",
    "                continue\n",
    "            minllh= min(ThesePoints.values())\n",
    "            FitX=[]\n",
    "            FitY=[]\n",
    "            for i in range(0,len(ThesePoints.values())):\n",
    "                if ((ThesePoints.values()[i]-minllh)<LLHCap):\n",
    "                    FitX.append(ThesePoints.keys()[i])\n",
    "                    FitY.append(ThesePoints.values()[i]-minllh)\n",
    "            FittedCurve=polynomial.polyfit(FitX,FitY,2)\n",
    "            minval=np.min(polynomial.polyval(vals,FittedCurve))\n",
    "            PlusOneSig=(-FittedCurve[1]+np.sqrt(FittedCurve[1]**2-4.*(-0.5-minval+FittedCurve[0])*FittedCurve[2]))/(2.*FittedCurve[2])\n",
    "            MinusOneSig=(-FittedCurve[1]-np.sqrt(FittedCurve[1]**2-4.*(-0.5-minval+FittedCurve[0])*FittedCurve[2]))/(2.*FittedCurve[2])\n",
    "            Zero=(PlusOneSig+MinusOneSig)/2.\n",
    "            if(len(ParamNum.split(\"_\"))==2):\n",
    "                NewWidths.append([int(ParamNum.split(\"_\")[0]), int(ParamNum.split(\"_\")[1]),Zero,MinusOneSig,PlusOneSig])\n",
    "            else:\n",
    "                NewWidths.append([int(ParamNum),Zero,MinusOneSig,PlusOneSig])\n",
    "            pylab.figure(figsize=(3,3))\n",
    "            fitcurve=polynomial.polyval(vals,FittedCurve)\n",
    "            pylab.plot(vals,fitcurve-min(fitcurve),color='DarkRed',linewidth=2)\n",
    "            pylab.plot(ThesePoints.keys(),ThesePoints.values()-min(fitcurve)-min(ThesePoints.values()),'o',color='red')\n",
    "            pylab.xlabel(\"Shift\")\n",
    "            pylab.ylabel(\"DLLH\")\n",
    "            pylab.title(Param+\"_\"+str(ParamNum))\n",
    "            pylab.ylim(0,ylim)\n",
    "            #pylab.ylim(0,LLHCap)\n",
    "            pylab.tight_layout()\n",
    "            pylab.xlim(-xlim,xlim)\n",
    "            pylab.grid()\n",
    "            if(plotdir):\n",
    "                pylab.savefig(plotdir+\"/new_\"+Param+\"_\"+str(ParamNum)+\".png\",dpi=300,bbox_inches='tight')\n",
    "            pylab.show()\n",
    "        np.savetxt(outfile,NewWidths)\n",
    "    return np.array(MissingList)"
   ]
  },
  {
   "cell_type": "code",
   "execution_count": null,
   "metadata": {},
   "outputs": [],
   "source": [
    "MissingAmpAmp=ExtractAndPlot(\"/data/ana/NuFSGenMC/MultiSim/MultisimOutputs/Constraints/LLHs/AmpAmp.txt\",\"/data/ana/NuFSGenMC/MultiSim/MultisimOutputs/Constraints/Widths/AmpAmpWidths.txt\",\"/data/ana/NuFSGenMC/MultiSim/MultisimOutputs/Constraints/Widths/Plots/Parabolas\")"
   ]
  },
  {
   "cell_type": "code",
   "execution_count": null,
   "metadata": {},
   "outputs": [],
   "source": [
    "MissingAmpPhs=ExtractAndPlot(\"/data/ana/NuFSGenMC/MultiSim/MultisimOutputs/Constraints/LLHs/AmpPhs.txt\",\"/data/ana/NuFSGenMC/MultiSim/MultisimOutputs/Constraints/Widths/AmpPhsWidths.txt\",\"/data/ana/NuFSGenMC/MultiSim/MultisimOutputs/Constraints/Widths/Plots/Parabolas\")"
   ]
  },
  {
   "cell_type": "code",
   "execution_count": null,
   "metadata": {},
   "outputs": [],
   "source": [
    "MissingPhsPhs=ExtractAndPlot(\"/data/ana/NuFSGenMC/MultiSim/MultisimOutputs/Constraints/LLHs/PhsPhs.txt\",\"/data/ana/NuFSGenMC/MultiSim/MultisimOutputs/Constraints/Widths/PhsPhsWidths.txt\",\"/data/ana/NuFSGenMC/MultiSim/MultisimOutputs/Constraints/Widths/Plots/Parabolas\")"
   ]
  },
  {
   "cell_type": "code",
   "execution_count": null,
   "metadata": {},
   "outputs": [],
   "source": [
    "#pylab.hist( np.array(MissingPhsPhs)[:,-1],bins=np.arange(0,62,1),label='Missing PhsPhs')\n",
    "pylab.hist(np.array(MissingAmpAmp)[:,-1],bins=np.arange(0,62,1),label='Missing AmpAmp',histtype='step')\n",
    "pylab.hist(np.array(MissingAmpPhs)[:,-1],bins=np.arange(0,62,1),label='Missing AmpPhs',histtype='step')\n",
    "pylab.xlim(0,60)\n",
    "pylab.legend(loc='uper right')\n",
    "pylab.show()"
   ]
  },
  {
   "cell_type": "code",
   "execution_count": null,
   "metadata": {},
   "outputs": [],
   "source": [
    "#Make a resubmit file for missing jobs\n",
    "\n",
    "def MakePatchJob(PatchArray, outdir):\n",
    "    print '''Universe        = vanilla\n",
    "Notification    = never\n",
    "Executable      = /data/user/bjones/MultiSimGitHub/MultiSim-PPC/llh/llhnew.sh\n",
    "\n",
    "\n",
    "Output          = '''+str(outdir)+'''/out/outpatch2_$(Process)\n",
    "Error           = '''+str(outdir)+'''/err/errpatch2_$(Process)\n",
    "Log             = '''+str(outdir)+'''/log/logpatch2_$(Process)\n",
    "\n",
    "\n",
    "request_gpus    = 1\n",
    "request_memory  = 2GB\n",
    "\n",
    "'''\n",
    "    i=0\n",
    "    while i < len(PatchArray):\n",
    "        if float(PatchArray[i,2])>0:\n",
    "            shift_string = \"+\" + str('%.3f'%abs(float(PatchArray[i,2]))).replace(\".\", \"p\")\n",
    "        else:\n",
    "            shift_string = \"-\" + str('%.3f'%abs(float(PatchArray[i,2]))).replace(\".\", \"p\")\n",
    "        firstdom= PatchArray[i,3]\n",
    "        dontstop=True; j=0\n",
    "        while (dontstop):\n",
    "       #     print PatchArray[i+j,3],int(PatchArray[i,3])+j\n",
    "\n",
    "            if ((i+j< len(PatchArray)) and \n",
    "                 (PatchArray[i,0]==PatchArray[i+j,0]) and \n",
    "                 (PatchArray[i,1]==PatchArray[i+j,1]) and \n",
    "                 (PatchArray[i,2]==PatchArray[i+j,2]) and\n",
    "                 (int(PatchArray[i+j,3])==int(PatchArray[i,3])+j) and\n",
    "                 (j<20)):\n",
    "\n",
    "                j=j+1\n",
    "            else:\n",
    "                lastdom=PatchArray[i+j-1,3]\n",
    "                dontstop=False\n",
    "        print \"Arguments      = 0 \"+ PatchArray[i,0] + \"_\" +PatchArray[i,1] + shift_string+ \".dat 36 \" + str(firstdom)+ \" \" +str(lastdom) +\" \"  + PatchArray[i,0]\n",
    "        print \"queue\"\n",
    "        i+=j+1\n",
    "\n"
   ]
  },
  {
   "cell_type": "code",
   "execution_count": null,
   "metadata": {},
   "outputs": [],
   "source": [
    "MakePatchJob(MissingAmpPhs,'/data/user/bjones/MultiSimGitHub/Cluster/logs/AmpPhs_1547094763')"
   ]
  },
  {
   "cell_type": "code",
   "execution_count": null,
   "metadata": {},
   "outputs": [],
   "source": [
    "MakePatchJob(MissingAmpAmp,'/data/user/bjones/MultiSimGitHub/Cluster/logs/AmpAmp_1546906977')"
   ]
  },
  {
   "cell_type": "code",
   "execution_count": null,
   "metadata": {},
   "outputs": [],
   "source": [
    "MissingAmp=ExtractAndPlot(\"/data/ana/NuFSGenMC/MultiSim/MultisimOutputs/Constraints/LLHs/Amp.txt\",\"/data/ana/NuFSGenMC/MultiSim/MultisimOutputs/Constraints/Widths/AmpWidths.txt\",\"/data/ana/NuFSGenMC/MultiSim/MultisimOutputs/Constraints/Widths/Plots/Parabolas\",xlim=1,ylim=50)"
   ]
  },
  {
   "cell_type": "code",
   "execution_count": null,
   "metadata": {},
   "outputs": [],
   "source": [
    "MissingAmp0=ExtractAndPlot(\"/data/ana/NuFSGenMC/MultiSim/MultisimOutputs/Constraints/LLHs/Amp0.txt\",\"/data/ana/NuFSGenMC/MultiSim/MultisimOutputs/Constraints/Widths/AmpWidths0.txt\",\"/data/ana/NuFSGenMC/MultiSim/MultisimOutputs/Constraints/Widths/Plots/Parabolas\",BadDoms=[1,21,23,41],xlim=1,ylim=30)"
   ]
  },
  {
   "cell_type": "code",
   "execution_count": null,
   "metadata": {},
   "outputs": [],
   "source": [
    "MissingPhs=ExtractAndPlot(\"/data/ana/NuFSGenMC/MultiSim/MultisimOutputs/Constraints/LLHs/Phs.txt\",\"/data/ana/NuFSGenMC/MultiSim/MultisimOutputs/Constraints/Widths/PhsWidths.txt\",\"/data/ana/NuFSGenMC/MultiSim/MultisimOutputs/Constraints/Widths/Plots/Parabolas\",xlim=1,ylim=30)"
   ]
  },
  {
   "cell_type": "code",
   "execution_count": null,
   "metadata": {},
   "outputs": [],
   "source": [
    "subprocess.call('cat /data/ana/NuFSGenMC/MultiSim/MultisimOutputs/Constraints/Widths/AmpWidths0.txt >> /data/ana/NuFSGenMC/MultiSim/MultisimOutputs/Constraints/Widths/AmpWidths.txt', shell=True)\n",
    "\n"
   ]
  },
  {
   "cell_type": "code",
   "execution_count": null,
   "metadata": {},
   "outputs": [],
   "source": [
    "def SortIt(a):\n",
    "    a=np.transpose(a)\n",
    "    return np.transpose(a[::, a[0,].argsort()[::]])"
   ]
  },
  {
   "cell_type": "code",
   "execution_count": null,
   "metadata": {},
   "outputs": [],
   "source": [
    "AllAmp=np.loadtxt(\"/data/ana/NuFSGenMC/MultiSim/MultisimOutputs/Constraints/Widths/AmpWidths.txt\")\n",
    "np.savetxt(\"/data/ana/NuFSGenMC/MultiSim/MultisimOutputs/Constraints/Widths/AmpWidths.txt\",SortIt(AllAmp))\n",
    "AllPhs=np.loadtxt(\"/data/ana/NuFSGenMC/MultiSim/MultisimOutputs/Constraints/Widths/PhsWidths.txt\")\n",
    "np.savetxt(\"/data/ana/NuFSGenMC/MultiSim/MultisimOutputs/Constraints/Widths/PhsWidths.txt\",SortIt(AllPhs))\n",
    "\n"
   ]
  }
 ],
 "metadata": {
  "kernelspec": {
   "display_name": "Python 2",
   "language": "python",
   "name": "python2"
  },
  "language_info": {
   "codemirror_mode": {
    "name": "ipython",
    "version": 2
   },
   "file_extension": ".py",
   "mimetype": "text/x-python",
   "name": "python",
   "nbconvert_exporter": "python",
   "pygments_lexer": "ipython2",
   "version": "2.7.13"
  }
 },
 "nbformat": 4,
 "nbformat_minor": 2
}
