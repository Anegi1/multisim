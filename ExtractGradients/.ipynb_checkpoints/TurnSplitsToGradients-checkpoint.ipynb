{
 "cells": [
  {
   "cell_type": "code",
   "execution_count": 1,
   "metadata": {},
   "outputs": [],
   "source": [
    "import numpy as np\n",
    "import pylab\n",
    "import matplotlib\n",
    "%matplotlib inline"
   ]
  },
  {
   "cell_type": "code",
   "execution_count": 2,
   "metadata": {},
   "outputs": [],
   "source": [
    "SplitsPath=\"/data/ana/NuFSGenMC/MultiSim/MultisimOutputs/Gradients/Splits\"\n",
    "OutPath=\"/data/ana/NuFSGenMC/MultiSim/MultisimOutputs/Gradients/FracGrad\""
   ]
  },
  {
   "cell_type": "code",
   "execution_count": 3,
   "metadata": {},
   "outputs": [],
   "source": [
    "def SortIt(a):\n",
    "    a=np.transpose(a)\n",
    "    return np.transpose(a[::, a[0,].argsort()[::]])"
   ]
  },
  {
   "cell_type": "code",
   "execution_count": 4,
   "metadata": {},
   "outputs": [],
   "source": [
    "GenScaleAmp=np.loadtxt(\"/data/ana/NuFSGenMC/MultiSim/MultisimOutputs/Gradients/FracGrad/GenerationScaleAmp.dat\")\n",
    "GenScalePhs=np.loadtxt(\"/data/ana/NuFSGenMC/MultiSim/MultisimOutputs/Gradients/FracGrad/GenerationScalePhs.dat\")\n",
    "\n",
    "OneSigmasAmpUnsr=np.loadtxt(\"/data/ana/NuFSGenMC/MultiSim/MultisimOutputs/Constraints/Widths/AmpWidths.txt\")\n",
    "OneSigmasPhsUnsr=np.loadtxt(\"/data/ana/NuFSGenMC/MultiSim/MultisimOutputs/Constraints/Widths/PhsWidths.txt\")\n",
    "OneSigmasAmp=SortIt(OneSigmasAmpUnsr)\n",
    "OneSigmasPhs=SortIt(OneSigmasPhsUnsr)\n",
    "\n",
    "CorrFactorAmp=[]\n",
    "CorrFactorPhs=[]\n",
    "\n",
    "\n",
    "for i in range(0,10):\n",
    "    CorrFactorAmp.append(((OneSigmasAmp[i,3]-OneSigmasAmp[i,2])/2.)/GenScaleAmp[1,i])\n",
    "for i in range(1,10):\n",
    "    CorrFactorPhs.append(((OneSigmasPhs[i-1,3]-OneSigmasPhs[i-1,2])/2.)/GenScalePhs[1,i])\n",
    "    \n",
    "CorrFactorAmp=np.array(CorrFactorAmp)\n",
    "CorrFactorPhs=np.array(CorrFactorPhs)"
   ]
  },
  {
   "cell_type": "code",
   "execution_count": 6,
   "metadata": {},
   "outputs": [],
   "source": [
    "AmpEGrads=[]\n",
    "AmpZGrads=[]\n",
    "PhsEGrads=[]\n",
    "PhsZGrads=[]\n",
    "\n",
    "for grad in range(1,9):\n",
    "    PhsZ=np.loadtxt(SplitsPath+\"/SplitCounts_Phs_Zenith_\"+str(grad)+\".csv\")\n",
    "    PhsE=np.loadtxt(SplitsPath+\"/SplitCounts_Phs_Energy_\"+str(grad)+\".csv\")\n",
    "    for line in np.transpose(PhsE):\n",
    "        if((line[4]+line[2])>0):\n",
    "            PhsEGrads.append([grad,line[0],line[1],(line[2]-line[4])/(line[4]+line[2])*CorrFactorAmp[grad],(line[5]**2+line[3]**2)**0.5/(line[4]+line[2])*CorrFactorAmp[grad]])\n",
    "    for line in np.transpose(PhsZ):\n",
    "        if((line[4]+line[2])>0):\n",
    "            PhsZGrads.append([grad,line[0],line[1],(line[2]-line[4])/(line[4]+line[2])*CorrFactorPhs[grad],(line[5]**2+line[3]**2)**0.5/(line[4]+line[2])*CorrFactorPhs[grad]])\n",
    "\n",
    "\n",
    "for grad in range(0,9):\n",
    "    AmpE=np.loadtxt(SplitsPath+\"/SplitCounts_Amp_Energy_\"+str(grad)+\".csv\")\n",
    "    AmpZ=np.loadtxt(SplitsPath+\"/SplitCounts_Amp_Zenith_\"+str(grad)+\".csv\")\n",
    "    for line in np.transpose(AmpE):\n",
    "        if((line[4]+line[2])>0):\n",
    "            AmpEGrads.append([grad,line[0],line[1],(line[2]-line[4])/(line[4]+line[2])*CorrFactorAmp[grad],(line[5]**2+line[3]**2)**0.5/(line[4]+line[2])*CorrFactorAmp[grad]])\n",
    "    for line in np.transpose(AmpZ):\n",
    "        if((line[4]+line[2])>0):\n",
    "            AmpZGrads.append([grad,line[0],line[1],(line[2]-line[4])/(line[4]+line[2])*CorrFactorPhs[grad],(line[5]**2+line[3]**2)**0.5/(line[4]+line[2])*CorrFactorPhs[grad]])"
   ]
  },
  {
   "cell_type": "code",
   "execution_count": 7,
   "metadata": {},
   "outputs": [],
   "source": [
    "np.savetxt(OutPath+\"/ZenithPhsGrads.csv\",PhsZGrads)\n",
    "np.savetxt(OutPath+\"/EnergyPhsGrads.csv\",PhsEGrads)\n",
    "np.savetxt(OutPath+\"/ZenithAmpGrads.csv\",AmpZGrads)\n",
    "np.savetxt(OutPath+\"/EnergyAmpGrads.csv\",AmpEGrads)"
   ]
  },
  {
   "cell_type": "code",
   "execution_count": null,
   "metadata": {},
   "outputs": [],
   "source": []
  }
 ],
 "metadata": {
  "kernelspec": {
   "display_name": "Python 2",
   "language": "python",
   "name": "python2"
  },
  "language_info": {
   "codemirror_mode": {
    "name": "ipython",
    "version": 2
   },
   "file_extension": ".py",
   "mimetype": "text/x-python",
   "name": "python",
   "nbconvert_exporter": "python",
   "pygments_lexer": "ipython2",
   "version": "2.7.13"
  }
 },
 "nbformat": 4,
 "nbformat_minor": 2
}
