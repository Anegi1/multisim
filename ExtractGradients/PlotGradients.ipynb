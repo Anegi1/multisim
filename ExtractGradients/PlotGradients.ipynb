{
 "cells": [
  {
   "cell_type": "markdown",
   "metadata": {},
   "source": [
    "# This notebook makes plots of the gradients based on a MultiSim MC set given known generation scales and one-sigma sizes from PPC"
   ]
  },
  {
   "cell_type": "code",
   "execution_count": null,
   "metadata": {},
   "outputs": [],
   "source": [
    "import numpy as np\n",
    "import pylab\n",
    "import matplotlib\n",
    "from scipy import stats\n",
    "%matplotlib inline"
   ]
  },
  {
   "cell_type": "code",
   "execution_count": null,
   "metadata": {},
   "outputs": [],
   "source": [
    "# First, both gradient size and error bar need scaling between generation spread\n",
    "# and 1 sigma scaled from constraints"
   ]
  },
  {
   "cell_type": "code",
   "execution_count": null,
   "metadata": {},
   "outputs": [],
   "source": [
    "EnergyAmpGrads=np.loadtxt(\"/data/ana/NuFSGenMC/MultiSim/MultisimOutputs/Gradients/FracGrad/EnergyAmpGrads.csv\")\n",
    "EnergyPhsGrads=np.loadtxt(\"/data/ana/NuFSGenMC/MultiSim/MultisimOutputs/Gradients/FracGrad/EnergyPhsGrads.csv\")\n",
    "vars=np.arange(0.5,13.5,0.01)\n",
    "EnergyAmpPolys=[]\n",
    "EnergyPhsPolys=[]\n",
    "\n",
    "f, axs = pylab.subplots(3, 3, sharex='col', sharey='row',figsize=(10,12),dpi=300)\n",
    "flatax=np.ndarray.flatten(axs)\n",
    "\n",
    "bins=np.arange(0,sum(EnergyAmpGrads[:,0]==1))\n",
    "for mode in range(0,9):\n",
    "    mask=EnergyAmpGrads[:,0]==mode\n",
    "    flatax[mode].errorbar(bins+1,EnergyAmpGrads[mask,3],yerr=EnergyAmpGrads[mask,4],fmt='o',color='DarkRed',capsize=10,label='Amp '+str(mode))\n",
    "    fit=np.polyfit(bins+1,EnergyAmpGrads[mask,3],4,w=1./(EnergyAmpGrads[mask,4]))\n",
    "    flatax[mode].plot(vars,np.poly1d(fit)(vars),'-',color='red')\n",
    "    EnergyAmpPolys.append(fit)\n",
    "    if(mode>0):\n",
    "        mask=EnergyPhsGrads[:,0]==mode\n",
    "        flatax[mode].errorbar(bins+1,EnergyPhsGrads[mask,3],yerr=EnergyPhsGrads[mask,4],fmt='o',color='DarkBlue',capsize=10,label='Phs '+str(mode))\n",
    "        fit=np.polyfit(bins+1,EnergyPhsGrads[mask,3],4,w=1./(EnergyPhsGrads[mask,4]))\n",
    "        flatax[mode].plot(vars,np.poly1d(fit)(vars),'-',color='blue')\n",
    "        EnergyPhsPolys.append(fit)\n",
    "    flatax[mode].legend(loc='upper right')\n",
    "    flatax[mode].plot([-1,23],[0,0],'--',color='black',linewidth=2)\n",
    "    flatax[mode].set_ylim(-0.06,0.06)\n",
    "    flatax[mode].set_xticks(range(1,14,1))\n",
    "    flatax[mode].set_xlim(0,14)\n",
    "\n",
    "    flatax[mode].grid()\n",
    "    if(mode%3==0):\n",
    "        flatax[mode].set_ylabel(\"Fractional Shift, 1 $\\sigma$\")\n",
    "    if(mode>5):\n",
    "        flatax[mode].set_xlabel(\"MEOWS Energy Bin\")\n",
    "    pylab.tight_layout()\n",
    "    pylab.savefig(\"/data/ana/NuFSGenMC/MultiSim/MultisimOutputs/Gradients/Plots/AllEnergyGradients.png\",dpi=250,bbox_inches='tight')\n",
    "    pylab.savetxt(\"/data/ana/NuFSGenMC/MultiSim/MultisimOutputs/Gradients/Polys/EnergyAmpPolys.txt\", EnergyAmpPolys)\n",
    "    pylab.savetxt(\"/data/ana/NuFSGenMC/MultiSim/MultisimOutputs/Gradients/Polys/EnergyPhsPolys.txt\", EnergyPhsPolys)\n",
    "\n"
   ]
  },
  {
   "cell_type": "code",
   "execution_count": null,
   "metadata": {},
   "outputs": [],
   "source": [
    "ZenithAmpGrads=np.loadtxt(\"/data/ana/NuFSGenMC/MultiSim/MultisimOutputs/Gradients/FracGrad/ZenithAmpGrads.csv\")\n",
    "ZenithPhsGrads=np.loadtxt(\"/data/ana/NuFSGenMC/MultiSim/MultisimOutputs/Gradients/FracGrad/ZenithPhsGrads.csv\")\n",
    "vars=np.arange(0.5,22.5,0.01)\n",
    "ZenithAmpPolys=[]\n",
    "ZenithPhsPolys=[]\n",
    "\n",
    "f, axs = pylab.subplots(3, 3, sharex='col', sharey='row',figsize=(10,12),dpi=300)\n",
    "flatax=np.ndarray.flatten(axs)\n",
    "\n",
    "bins=np.arange(0,sum(ZenithAmpGrads[:,0]==1))\n",
    "for mode in range(0,9):\n",
    "    mask=ZenithAmpGrads[:,0]==mode\n",
    "    flatax[mode].errorbar(bins+1,ZenithAmpGrads[mask,3],yerr=ZenithAmpGrads[mask,4],fmt='o',color='DarkRed',capsize=10,label='Amp '+str(mode))\n",
    "    fit=np.polyfit(bins+1,ZenithAmpGrads[mask,3],4,w=1./(ZenithAmpGrads[mask,4]))\n",
    "    flatax[mode].plot(vars,np.poly1d(fit)(vars),'-',color='red')\n",
    "    ZenithAmpPolys.append(fit)\n",
    "\n",
    "    if(mode>0):\n",
    "        mask=ZenithPhsGrads[:,0]==mode\n",
    "        flatax[mode].errorbar(bins+1,ZenithPhsGrads[mask,3],yerr=ZenithPhsGrads[mask,4],fmt='o',color='DarkBlue',capsize=10,label='Phs '+str(mode))\n",
    "        fit=np.polyfit(bins+1,ZenithPhsGrads[mask,3],4,w=1./(ZenithPhsGrads[mask,4]))\n",
    "        flatax[mode].plot(vars,np.poly1d(fit)(vars),'-',color='blue')\n",
    "        ZenithPhsPolys.append(fit)\n",
    "\n",
    "    flatax[mode].legend(loc='upper right')\n",
    "    flatax[mode].plot([-1,23],[0,0],'--',color='black',linewidth=2)\n",
    "    flatax[mode].set_ylim(-0.06,0.06)\n",
    "    flatax[mode].set_xticks(range(1,23,2))\n",
    "    flatax[mode].set_xlim(0,23)\n",
    "\n",
    "    flatax[mode].grid()\n",
    "    if(mode%3==0):\n",
    "        flatax[mode].set_ylabel(\"Fractional Shift, 1 $\\sigma$\")\n",
    "    if(mode>5):\n",
    "        flatax[mode].set_xlabel(\"MEOWS Energy Bin\")\n",
    "    pylab.tight_layout()\n",
    "    pylab.savefig(\"/data/ana/NuFSGenMC/MultiSim/MultisimOutputs/Gradients/Plots/AllZenithGradients.png\",dpi=250,bbox_inches='tight')\n",
    "    pylab.savetxt(\"/data/ana/NuFSGenMC/MultiSim/MultisimOutputs/Gradients/Polys/ZenithAmpPolys.txt\", ZenithAmpPolys)\n",
    "    pylab.savetxt(\"/data/ana/NuFSGenMC/MultiSim/MultisimOutputs/Gradients/Polys/ZenithPhsPolys.txt\", ZenithPhsPolys)\n",
    "\n",
    "\n",
    "\n"
   ]
  },
  {
   "cell_type": "code",
   "execution_count": null,
   "metadata": {},
   "outputs": [],
   "source": [
    "Amp1sGen=np.loadtxt(\"/data/ana/NuFSGenMC/MultiSim/MultisimOutputs/Constraints/Models/models_1sig/AmpOneSigmas.txt\")\n",
    "Amp1sCal=np.loadtxt(\"/data/ana/NuFSGenMC/MultiSim/MultisimOutputs/Constraints/Widths/AmpWidths.txt\")"
   ]
  },
  {
   "cell_type": "code",
   "execution_count": null,
   "metadata": {},
   "outputs": [],
   "source": [
    "pylab.plot(Amp1sGen[:,0],(Amp1sGen[:,3]-Amp1sGen[:,1])/(Amp1sCal[:,3]-Amp1sCal[:,1]))"
   ]
  },
  {
   "cell_type": "code",
   "execution_count": null,
   "metadata": {},
   "outputs": [],
   "source": [
    "Amp1sCal"
   ]
  },
  {
   "cell_type": "code",
   "execution_count": null,
   "metadata": {},
   "outputs": [],
   "source": []
  }
 ],
 "metadata": {
  "kernelspec": {
   "display_name": "Python 2",
   "language": "python",
   "name": "python2"
  },
  "language_info": {
   "codemirror_mode": {
    "name": "ipython",
    "version": 2
   },
   "file_extension": ".py",
   "mimetype": "text/x-python",
   "name": "python",
   "nbconvert_exporter": "python",
   "pygments_lexer": "ipython2",
   "version": "2.7.13"
  }
 },
 "nbformat": 4,
 "nbformat_minor": 2
}
