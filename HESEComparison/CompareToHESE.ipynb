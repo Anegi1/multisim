{
 "cells": [
  {
   "cell_type": "code",
   "execution_count": null,
   "metadata": {},
   "outputs": [],
   "source": [
    "import numpy as np\n",
    "import pylab\n",
    "%matplotlib inline\n",
    "from mpl_toolkits.axes_grid1 import make_axes_locatable\n",
    "\n"
   ]
  },
  {
   "cell_type": "code",
   "execution_count": null,
   "metadata": {},
   "outputs": [],
   "source": [
    "CovMatrix=np.loadtxt(\"/data/ana/NuFSGenMC/MultiSim/MultisimOutputs/Matrices/AnalysisCovariance.txt\")\n",
    "CovNuisHeseToys=np.loadtxt(\"/data/ana/NuFSGenMC/MultiSim/MultisimOutputs/Comparisons/CovMatrixHESEToys.txt\")\n",
    "\n",
    "Nbins=len(CovMatrix)"
   ]
  },
  {
   "cell_type": "code",
   "execution_count": null,
   "metadata": {},
   "outputs": [],
   "source": [
    "Bins=13\n",
    "Modes=5\n",
    "\n",
    "AmpPolys=np.loadtxt(\"/data/ana/NuFSGenMC/MultiSim/MultisimOutputs/Gradients/Polys/EnergyAmpPolys.txt\")\n",
    "PhsPolys=np.loadtxt(\"/data/ana/NuFSGenMC/MultiSim/MultisimOutputs/Gradients/Polys/EnergyPhsPolys.txt\")\n",
    "\n",
    "AmpWidths=np.loadtxt(\"/data/ana/NuFSGenMC/MultiSim/MultisimOutputs/Constraints/Widths/AmpWidths.txt\")"
   ]
  },
  {
   "cell_type": "code",
   "execution_count": null,
   "metadata": {},
   "outputs": [],
   "source": [
    "#these to be replaced\n",
    "def ReadAmpGradient(i):\n",
    "    bins=np.arange(1,Bins+1)\n",
    "    return np.poly1d(AmpPolys[i])(bins)\n",
    "\n",
    "\n",
    "def ReadPhsGradient(i):\n",
    "    bins=np.arange(1,Bins+1)\n",
    "    return np.poly1d(PhsPolys[i-1])(bins)"
   ]
  },
  {
   "cell_type": "code",
   "execution_count": null,
   "metadata": {},
   "outputs": [],
   "source": [
    "AmpGradients=[]\n",
    "PhsGradients=[]\n",
    "for i in range(0,Modes):\n",
    "    AmpGradients.append(ReadAmpGradient(i))\n",
    "    if(i>0):\n",
    "        PhsGradients.append(ReadPhsGradient(i))\n",
    "    else:\n",
    "        PhsGradients.append(0)\n",
    "AllGradients=AmpGradients+PhsGradients[1:] #first phase is unphysical"
   ]
  },
  {
   "cell_type": "code",
   "execution_count": null,
   "metadata": {},
   "outputs": [],
   "source": [
    "Jacobian=np.ndarray(shape=(Bins,Modes*2-1))\n",
    "for i in range(0,Bins):\n",
    "    for j in range(0,Modes):\n",
    "        Jacobian[i,j]=AmpGradients[j][i]\n",
    "for i in range(0,Bins):\n",
    "    for j in range(0,Modes-1):\n",
    "        Jacobian[i,Modes+j]=PhsGradients[j+1][i]"
   ]
  },
  {
   "cell_type": "code",
   "execution_count": null,
   "metadata": {},
   "outputs": [],
   "source": [
    "CovBinsHese=Jacobian.dot(CovNuisHeseToys).dot(np.transpose(Jacobian))"
   ]
  },
  {
   "cell_type": "code",
   "execution_count": null,
   "metadata": {},
   "outputs": [],
   "source": [
    "    pylab.figure(figsize=(4,4),dpi=300)   \n",
    "    im =pylab.imshow(CovBinsHese,interpolation='nearest',cmap='RdBu')\n",
    "    pylab.clim(-0.003,0.003)\n",
    "    pylab.xlabel(\"Energy Bin\")\n",
    "    pylab.ylabel(\"Energy Bin\")\n",
    "\n",
    "\n",
    "    ax=pylab.gca()\n",
    "    pylab.xticks(range(len(CovBinsHese)))\n",
    "    pylab.yticks(range(len(CovBinsHese)))\n",
    "    ax.xaxis.tick_top()\n",
    "    ax.xaxis.label_position='top'\n",
    "    ax.xaxis.labelpad=15\n",
    "    pylab.xlim(-0.5,12.5)\n",
    "    pylab.ylim(12.5,-0.5)\n",
    "\n",
    "\n",
    "    divider = make_axes_locatable(ax)\n",
    "    cax = divider.append_axes(\"right\", size=\"5%\", pad=0.05)\n",
    "\n",
    "    pylab.colorbar(im, cax=cax)\n",
    "    pylab.tight_layout()\n",
    "\n",
    "    pylab.savefig(\"/data/ana/NuFSGenMC/MultiSim/MultisimOutputs/Comparisons/Plots/CovBinsHESE.png\",dpi=250,bbox_inches='tight')\n",
    "\n",
    "    pylab.show()"
   ]
  },
  {
   "cell_type": "code",
   "execution_count": null,
   "metadata": {},
   "outputs": [],
   "source": [
    "SpiceMieEllipse=np.zeros_like(CovNuisHeseToys)\n",
    "SpiceMieEllipse[0,0]=0.1**2/(AmpWidths[0,3]-AmpWidths[0,1])**2\n",
    "CovSpiceMieEllipse=Jacobian.dot(SpiceMieEllipse).dot(np.transpose(Jacobian))"
   ]
  },
  {
   "cell_type": "code",
   "execution_count": null,
   "metadata": {},
   "outputs": [],
   "source": [
    "pylab.figure(figsize=(4,4),dpi=300)\n",
    "\n",
    "#pylab.plot(numpy.sqrt(numpy.diag(BestCov0)),label=\"1 Effective Gradient\")\n",
    "pylab.plot(np.sqrt(np.diag(CovBinsHese)),label=\"HESE Toys\")\n",
    "pylab.plot(np.sqrt(np.diag(CovMatrix)),label=\"Multisim 4-mode\")\n",
    "#pylab.plot(np.sqrt(np.diag(CovSpiceMieEllipse)),label=\"SpiceMie Ice Ellipse\")\n",
    "\n",
    "\n",
    "pylab.legend(loc='lower right')\n",
    "pylab.ylabel(\"Diagonal uncertainty\")\n",
    "pylab.xlabel(\"Bin number\")\n",
    "pylab.tight_layout()\n",
    "pylab.savefig(\"/data/ana/NuFSGenMC/MultiSim/MultisimOutputs/Comparisons/Plots/DiagonalUncertaintyHESEComp.png\",dpi=250,bbox_inches='tight')"
   ]
  }
 ],
 "metadata": {
  "kernelspec": {
   "display_name": "Python 2",
   "language": "python",
   "name": "python2"
  },
  "language_info": {
   "codemirror_mode": {
    "name": "ipython",
    "version": 2
   },
   "file_extension": ".py",
   "mimetype": "text/x-python",
   "name": "python",
   "nbconvert_exporter": "python",
   "pygments_lexer": "ipython2",
   "version": "2.7.13"
  }
 },
 "nbformat": 4,
 "nbformat_minor": 2
}
