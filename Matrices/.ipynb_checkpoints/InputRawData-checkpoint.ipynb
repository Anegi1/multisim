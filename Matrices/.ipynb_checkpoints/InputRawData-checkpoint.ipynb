{
 "cells": [
  {
   "cell_type": "code",
   "execution_count": 50,
   "metadata": {
    "collapsed": true
   },
   "outputs": [],
   "source": [
    "import numpy\n",
    "import pylab\n",
    "%matplotlib inline"
   ]
  },
  {
   "cell_type": "code",
   "execution_count": 65,
   "metadata": {
    "collapsed": false
   },
   "outputs": [],
   "source": [
    "AmpHessian=numpy.zeros_like(numpy.ndarray(shape=(12,12)))\n",
    "dat=numpy.loadtxt(\"../Data/Matrices/rawdata/Hess_Amp_Amp.dat\",delimiter=',')\n",
    "for i in range(0,12):\n",
    "    AmpHessian[i,i]=1\n",
    "for i in dat:\n",
    "    AmpHessian[i[0],i[1]]=i[2]-1\n",
    "    AmpHessian[i[1],i[0]]=i[2]-1\n"
   ]
  },
  {
   "cell_type": "code",
   "execution_count": 66,
   "metadata": {
    "collapsed": false
   },
   "outputs": [
    {
     "data": {
      "text/plain": [
       "<matplotlib.image.AxesImage at 0x7fb8a19dd290>"
      ]
     },
     "execution_count": 66,
     "metadata": {},
     "output_type": "execute_result"
    },
    {
     "data": {
      "image/png": "[encoded data removed]",
      "text/plain": [
       "<matplotlib.figure.Figure at 0x7fb8a1a78410>"
      ]
     },
     "metadata": {},
     "output_type": "display_data"
    }
   ],
   "source": [
    "pylab.imshow(AmpHessian,interpolation='nearest')\n"
   ]
  },
  {
   "cell_type": "code",
   "execution_count": 67,
   "metadata": {
    "collapsed": false
   },
   "outputs": [],
   "source": [
    "PhsHessian=numpy.zeros_like(numpy.ndarray(shape=(11,11)))\n",
    "dat=numpy.loadtxt(\"../Data/Matrices/rawdata/Hess_Phs_Phs.dat\",delimiter=',')\n",
    "for i in range(0,11):\n",
    "    PhsHessian[i,i]=1\n",
    "for i in dat:\n",
    "    PhsHessian[i[0]-1,i[1]-1]=i[2]-1\n",
    "    PhsHessian[i[1]-1,i[0]-1]=i[2]-1\n"
   ]
  },
  {
   "cell_type": "code",
   "execution_count": 68,
   "metadata": {
    "collapsed": false
   },
   "outputs": [
    {
     "data": {
      "text/plain": [
       "<matplotlib.image.AxesImage at 0x7fb8a1905d90>"
      ]
     },
     "execution_count": 68,
     "metadata": {},
     "output_type": "execute_result"
    },
    {
     "data": {
      "image/png": "[encoded data removed]",
      "text/plain": [
       "<matplotlib.figure.Figure at 0x7fb8a199ac50>"
      ]
     },
     "metadata": {},
     "output_type": "display_data"
    }
   ],
   "source": [
    "pylab.imshow(PhsHessian,interpolation='nearest')"
   ]
  },
  {
   "cell_type": "code",
   "execution_count": 69,
   "metadata": {
    "collapsed": false
   },
   "outputs": [],
   "source": [
    "AmpPhsHessian=numpy.zeros_like(numpy.ndarray(shape=(12,11)))\n",
    "dat=numpy.loadtxt(\"../Data/Matrices/rawdata/Hess_Amp_Phs.dat\",delimiter=',')\n",
    "\n",
    "for i in dat:\n",
    "    AmpPhsHessian[i[0],i[1]-1]=i[2]-1\n"
   ]
  },
  {
   "cell_type": "code",
   "execution_count": 71,
   "metadata": {
    "collapsed": false
   },
   "outputs": [
    {
     "data": {
      "text/plain": [
       "<matplotlib.image.AxesImage at 0x7fb8a177a190>"
      ]
     },
     "execution_count": 71,
     "metadata": {},
     "output_type": "execute_result"
    },
    {
     "data": {
      "image/png": "[encoded data removed]",
      "text/plain": [
       "<matplotlib.figure.Figure at 0x7fb8a18ecb90>"
      ]
     },
     "metadata": {},
     "output_type": "display_data"
    }
   ],
   "source": [
    "pylab.imshow(AmpPhsHessian,interpolation='nearest')"
   ]
  },
  {
   "cell_type": "code",
   "execution_count": 72,
   "metadata": {
    "collapsed": false
   },
   "outputs": [],
   "source": [
    "numpy.savetxt(\"../Data/Matrices/Hess_Amp_Amp.dat\",AmpHessian)\n",
    "numpy.savetxt(\"../Data/Matrices/Hess_Phs_Phs.dat\",PhsHessian)\n",
    "numpy.savetxt(\"../Data/Matrices/Hess_Amp_Phs.dat\",AmpPhsHessian)"
   ]
  },
  {
   "cell_type": "code",
   "execution_count": null,
   "metadata": {
    "collapsed": true
   },
   "outputs": [],
   "source": []
  },
  {
   "cell_type": "code",
   "execution_count": null,
   "metadata": {
    "collapsed": true
   },
   "outputs": [],
   "source": []
  }
 ],
 "metadata": {
  "kernelspec": {
   "display_name": "Python 2",
   "language": "python",
   "name": "python2"
  },
  "language_info": {
   "codemirror_mode": {
    "name": "ipython",
    "version": 2
   },
   "file_extension": ".py",
   "mimetype": "text/x-python",
   "name": "python",
   "nbconvert_exporter": "python",
   "pygments_lexer": "ipython2",
   "version": "2.7.10"
  }
 },
 "nbformat": 4,
 "nbformat_minor": 0
}
