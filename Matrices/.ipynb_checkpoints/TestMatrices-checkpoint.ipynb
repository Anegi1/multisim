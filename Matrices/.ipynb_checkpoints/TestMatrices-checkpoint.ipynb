{
 "cells": [
  {
   "cell_type": "code",
   "execution_count": 104,
   "metadata": {
    "collapsed": true
   },
   "outputs": [],
   "source": [
    "import numpy\n",
    "import pylab\n"
   ]
  },
  {
   "cell_type": "code",
   "execution_count": 105,
   "metadata": {
    "collapsed": true
   },
   "outputs": [],
   "source": [
    "Bins=11\n",
    "Modes=10"
   ]
  },
  {
   "cell_type": "code",
   "execution_count": 106,
   "metadata": {
    "collapsed": true
   },
   "outputs": [],
   "source": [
    "def MakeGradient(i):\n",
    "    return (0.5-numpy.random.random())*numpy.random.random_sample(Bins)"
   ]
  },
  {
   "cell_type": "code",
   "execution_count": 107,
   "metadata": {
    "collapsed": true
   },
   "outputs": [],
   "source": [
    "for i in range(0,Modes):\n",
    "    numpy.savetxt(\"../Data/Matrices/Grad_Amp_\"+str(i)+\".dat\",0.5*MakeGradient(i))\n",
    "    if(i>0):\n",
    "        numpy.savetxt(\"../Data/Matrices/Grad_Phs_\"+str(i)+\".dat\",0.8*MakeGradient(i))"
   ]
  },
  {
   "cell_type": "code",
   "execution_count": 108,
   "metadata": {
    "collapsed": true
   },
   "outputs": [],
   "source": [
    "def MakeHessian(B):\n",
    "    RandomMatrix=[]\n",
    "    b = 0.05*(0.5-numpy.random.random_sample(size=(B,B)))\n",
    "    RandomMatrix = (b + b.T)/2 \n",
    "    return RandomMatrix"
   ]
  },
  {
   "cell_type": "code",
   "execution_count": 109,
   "metadata": {
    "collapsed": false
   },
   "outputs": [],
   "source": [
    "numpy.savetxt(\"../Data/Matrices/Hess_Amp_Amp.dat\",0.6*MakeHessian(Modes))\n",
    "numpy.savetxt(\"../Data/Matrices/Hess_Phs_Phs.dat\",0.2*MakeHessian(Modes-1))\n",
    "numpy.savetxt(\"../Data/Matrices/Hess_Amp_Phs.dat\",(0.03*(0.5-numpy.random.random_sample(size=(Modes,Modes-1)))))"
   ]
  },
  {
   "cell_type": "code",
   "execution_count": 110,
   "metadata": {
    "collapsed": false
   },
   "outputs": [
    {
     "data": {
      "text/plain": [
       "array([[ 0.00396768,  0.0099386 , -0.00610326, -0.00236713, -0.00406191,\n",
       "        -0.00195851,  0.0173026 , -0.00698057,  0.01692038, -0.01117385],\n",
       "       [ 0.0099386 , -0.02340349, -0.00800429, -0.0042713 , -0.001921  ,\n",
       "        -0.01851768,  0.00180069, -0.01109604,  0.01388841, -0.00216241],\n",
       "       [-0.00610326, -0.00800429, -0.01429576, -0.0166965 ,  0.01145604,\n",
       "         0.01403695,  0.00560213,  0.00635254, -0.0194355 ,  0.00309674],\n",
       "       [-0.00236713, -0.0042713 , -0.0166965 ,  0.0044188 , -0.00597076,\n",
       "         0.00261496,  0.00024995,  0.02109231, -0.00471011, -0.00304293],\n",
       "       [-0.00406191, -0.001921  ,  0.01145604, -0.00597076, -0.00815318,\n",
       "        -0.00396481,  0.0112298 ,  0.00020335,  0.00153568, -0.00525424],\n",
       "       [-0.00195851, -0.01851768,  0.01403695,  0.00261496, -0.00396481,\n",
       "         0.00756534,  0.00711955,  0.02364959, -0.00596688,  0.02073749],\n",
       "       [ 0.0173026 ,  0.00180069,  0.00560213,  0.00024995,  0.0112298 ,\n",
       "         0.00711955, -0.00674154,  0.0214    ,  0.00815745,  0.01016808],\n",
       "       [-0.00698057, -0.01109604,  0.00635254,  0.02109231,  0.00020335,\n",
       "         0.02364959,  0.0214    , -0.0124341 , -0.00834005,  0.01064585],\n",
       "       [ 0.01692038,  0.01388841, -0.0194355 , -0.00471011,  0.00153568,\n",
       "        -0.00596688,  0.00815745, -0.00834005, -0.00148651, -0.00470353],\n",
       "       [-0.01117385, -0.00216241,  0.00309674, -0.00304293, -0.00525424,\n",
       "         0.02073749,  0.01016808,  0.01064585, -0.00470353, -0.00595958]])"
      ]
     },
     "execution_count": 110,
     "metadata": {},
     "output_type": "execute_result"
    }
   ],
   "source": [
    "MakeHessian(Modes)"
   ]
  },
  {
   "cell_type": "code",
   "execution_count": null,
   "metadata": {
    "collapsed": true
   },
   "outputs": [],
   "source": []
  },
  {
   "cell_type": "code",
   "execution_count": null,
   "metadata": {
    "collapsed": true
   },
   "outputs": [],
   "source": []
  }
 ],
 "metadata": {
  "kernelspec": {
   "display_name": "Python 2",
   "language": "python",
   "name": "python2"
  },
  "language_info": {
   "codemirror_mode": {
    "name": "ipython",
    "version": 2
   },
   "file_extension": ".py",
   "mimetype": "text/x-python",
   "name": "python",
   "nbconvert_exporter": "python",
   "pygments_lexer": "ipython2",
   "version": "2.7.10"
  }
 },
 "nbformat": 4,
 "nbformat_minor": 0
}
