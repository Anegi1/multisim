{
 "cells": [
  {
   "cell_type": "code",
   "execution_count": null,
   "metadata": {},
   "outputs": [],
   "source": [
    "import numpy as np\n",
    "import pylab\n",
    "import matplotlib\n",
    "import scipy\n",
    "from scipy import optimize\n",
    "%matplotlib inline\n",
    "from mpl_toolkits.axes_grid1 import make_axes_locatable\n",
    "\n"
   ]
  },
  {
   "cell_type": "code",
   "execution_count": null,
   "metadata": {},
   "outputs": [],
   "source": [
    "CovMatrix=np.loadtxt(\"/data/ana/NuFSGenMC/MultiSim/MultisimOutputs/Matrices/AnalysisCovariance.txt\")\n",
    "Nbins=len(CovMatrix)\n",
    "\n"
   ]
  },
  {
   "cell_type": "code",
   "execution_count": null,
   "metadata": {},
   "outputs": [],
   "source": [
    "#This makes a matrix out of two gradients and a correlation coefficient\n",
    "# Format: DiscreteParams[0:Nbins] = First gradient\n",
    "#         DiscreteParams[Nbins:2.*Nbins] = Second gradient\n",
    "#         DiscreteParams[-1] = Correlation coefficient\n",
    "def MakeDiscreteMatrixTwoTerms(DiscreteParams):\n",
    "    CovMatrixToReturn=numpy.ndarray(shape=(Nbins,Nbins))\n",
    "    alpha=DiscreteParams[-1]\n",
    "    FirstGradient=DiscreteParams[0:Nbins]\n",
    "    SecondGradient=DiscreteParams[Nbins:2*Nbins]\n",
    "    for i in range(0,Nbins):\n",
    "        for j in range(0,Nbins):\n",
    "            CovMatrixToReturn[i][j]=(FirstGradient[i]*FirstGradient[j]+ SecondGradient[i]*SecondGradient[j]+ alpha*(FirstGradient[i]*SecondGradient[j]+FirstGradient[j]*SecondGradient[i]))\n",
    "    return CovMatrixToReturn"
   ]
  },
  {
   "cell_type": "code",
   "execution_count": null,
   "metadata": {},
   "outputs": [],
   "source": [
    "#This is the function to be minimized\n",
    "def MinimizeFunctionTwoTerms(DiscreteParams):\n",
    "    Resid2= (MakeDiscreteMatrixTwoTerms(DiscreteParams)-CovMatrix)\n",
    "    AlphaPrior=numpy.exp(100.*pow(DiscreteParams[-1],2))\n",
    "    return(numpy.sum(numpy.abs(Resid2))*AlphaPrior)"
   ]
  },
  {
   "cell_type": "code",
   "execution_count": null,
   "metadata": {},
   "outputs": [],
   "source": [
    "#These are the values we will use to seed the fit\n",
    "SeedParams2=numpy.ones(2*Nbins+1)\n",
    "SeedParams2[-1]=0.1"
   ]
  },
  {
   "cell_type": "code",
   "execution_count": null,
   "metadata": {},
   "outputs": [],
   "source": [
    "#Make the fit\n",
    "ResultsTwoTerms=scipy.optimize.minimize(MinimizeFunctionTwoTerms,SeedParams2)\n",
    "\n",
    "#Get the best fit matrix\n",
    "BestCov=MakeDiscreteMatrixTwoTerms(ResultsTwoTerms.x)"
   ]
  },
  {
   "cell_type": "code",
   "execution_count": null,
   "metadata": {},
   "outputs": [],
   "source": [
    "def DrawMatrix(Matrix,SaveName=\"\",scale=0):\n",
    "    pylab.figure(figsize=(4,4),dpi=300)   \n",
    "    im =pylab.imshow(Matrix,interpolation='nearest',cmap='RdBu')\n",
    "    if(scale==0):\n",
    "        pylab.clim(-np.max(np.abs(Matrix)),np.max(np.abs(Matrix)))\n",
    "    else:\n",
    "        pylab.clim(-scale,scale)\n",
    "    pylab.xlabel(\"Energy Bin\")\n",
    "    pylab.ylabel(\"Energy Bin\")\n",
    "\n",
    "\n",
    "    ax=pylab.gca()\n",
    "    pylab.xticks(range(len(Matrix)))\n",
    "    pylab.yticks(range(len(Matrix)))\n",
    "    ax.xaxis.tick_top()\n",
    "    ax.xaxis.label_position='top'\n",
    "    ax.xaxis.labelpad=15\n",
    "    pylab.xlim(-0.5,12.5)\n",
    "    pylab.ylim(12.5,-0.5)\n",
    "\n",
    "\n",
    "    divider = make_axes_locatable(ax)\n",
    "    cax = divider.append_axes(\"right\", size=\"5%\", pad=0.05)\n",
    "\n",
    "    pylab.colorbar(im, cax=cax)\n",
    "    pylab.tight_layout()\n",
    "    if(SaveName!=\"\"):\n",
    "        pylab.savefig(\"/data/ana/NuFSGenMC/MultiSim/MultisimOutputs/EffGradients/Plots/\"+str(SaveName)+\".png\",dpi=250,bbox_inches='tight')\n",
    "\n",
    "    pylab.show()\n",
    "\n",
    "\n"
   ]
  },
  {
   "cell_type": "code",
   "execution_count": null,
   "metadata": {},
   "outputs": [],
   "source": [
    "DrawMatrix(BestCov,\"BestFitCov\",0.003)"
   ]
  },
  {
   "cell_type": "code",
   "execution_count": null,
   "metadata": {},
   "outputs": [],
   "source": [
    "Residual=BestCov-CovMatrix\n",
    "DrawMatrix(Residual,\"Residual\",0.003)"
   ]
  },
  {
   "cell_type": "code",
   "execution_count": null,
   "metadata": {},
   "outputs": [],
   "source": [
    "pylab.figure(figsize=(4,4),dpi=300)\n",
    "\n",
    "#pylab.plot(numpy.sqrt(numpy.diag(BestCov0)),label=\"1 Effective Gradient\")\n",
    "pylab.plot(numpy.sqrt(numpy.diag(BestCov)),label=\"2 Effective Gradients\")\n",
    "pylab.plot(numpy.sqrt(numpy.diag(CovMatrix)),label=\"Original cov matrix\")\n",
    "pylab.legend(loc='lower right')\n",
    "pylab.ylabel(\"Diagonal uncertainty\")\n",
    "pylab.xlabel(\"Bin number\")\n",
    "pylab.tight_layout()\n",
    "pylab.savefig(\"/data/ana/NuFSGenMC/MultiSim/MultisimOutputs/EffGradients/Plots/DiagonalUncertainty.png\",dpi=250,bbox_inches='tight')"
   ]
  },
  {
   "cell_type": "code",
   "execution_count": null,
   "metadata": {},
   "outputs": [],
   "source": [
    "\n",
    "pylab.figure(figsize=(4,4),dpi=300)\n",
    "\n",
    "pylab.plot(ResultsTwoTerms.x[0:Nbins],label='Effective Gradient 1')\n",
    "pylab.plot(ResultsTwoTerms.x[Nbins:2*Nbins],label='Effective Gradient 2')\n",
    "pylab.legend(loc='upper right',title=\"Correlation Coeff=\"+str(numpy.round(ResultsTwoTerms.x[-1],decimals=3)))\n",
    "pylab.xlabel(\"Energy Bin\")\n",
    "pylab.ylabel(\"Gradient\")\n",
    "pylab.tight_layout()\n",
    "pylab.savefig(\"/data/ana/NuFSGenMC/MultiSim/MultisimOutputs/EffGradients/Plots/Gradients.png\",dpi=250,bbox_inches='tight')"
   ]
  },
  {
   "cell_type": "code",
   "execution_count": null,
   "metadata": {},
   "outputs": [],
   "source": [
    "np.savetxt(\"/data/ana/NuFSGenMC/MultiSim/MultisimOutputs/EffGradients/Gradient1.txt\",ResultsTwoTerms.x[0:Nbins])\n",
    "np.savetxt(\"/data/ana/NuFSGenMC/MultiSim/MultisimOutputs/EffGradients/Gradient2.txt\",ResultsTwoTerms.x[Nbins:2*Nbins])\n",
    "np.savetxt(\"/data/ana/NuFSGenMC/MultiSim/MultisimOutputs/EffGradients/Correlation.txt\",[ResultsTwoTerms.x[-1]])"
   ]
  },
  {
   "cell_type": "code",
   "execution_count": null,
   "metadata": {},
   "outputs": [],
   "source": [
    "EnergyAmpGrads=np.loadtxt(\"/data/ana/NuFSGenMC/MultiSim/MultisimOutputs/Gradients/FracGrad/EnergyAmpGrads.csv\")\n",
    "BinDefs=[EnergyAmpGrads[EnergyAmpGrads[:,0]==0][:,1],EnergyAmpGrads[EnergyAmpGrads[:,0]==0][:,2]]\n",
    "np.savetxt(\"/data/ana/NuFSGenMC/MultiSim/MultisimOutputs/EffGradients/BinDefs\",BinDefs)"
   ]
  },
  {
   "cell_type": "code",
   "execution_count": null,
   "metadata": {},
   "outputs": [],
   "source": []
  }
 ],
 "metadata": {
  "kernelspec": {
   "display_name": "Python 2",
   "language": "python",
   "name": "python2"
  },
  "language_info": {
   "codemirror_mode": {
    "name": "ipython",
    "version": 2
   },
   "file_extension": ".py",
   "mimetype": "text/x-python",
   "name": "python",
   "nbconvert_exporter": "python",
   "pygments_lexer": "ipython2",
   "version": "2.7.13"
  }
 },
 "nbformat": 4,
 "nbformat_minor": 2
}
