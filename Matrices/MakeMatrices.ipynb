{
 "cells": [
  {
   "cell_type": "code",
   "execution_count": null,
   "metadata": {},
   "outputs": [],
   "source": [
    "import numpy as np\n",
    "import pylab\n",
    "%matplotlib inline\n",
    "from mpl_toolkits.axes_grid1 import make_axes_locatable\n"
   ]
  },
  {
   "cell_type": "code",
   "execution_count": null,
   "metadata": {},
   "outputs": [],
   "source": [
    "Bins=13\n",
    "Modes=5\n",
    "\n",
    "AmpPolys=np.loadtxt(\"/data/ana/NuFSGenMC/MultiSim/MultisimOutputs/Gradients/Polys/EnergyAmpPolys.txt\")\n",
    "PhsPolys=np.loadtxt(\"/data/ana/NuFSGenMC/MultiSim/MultisimOutputs/Gradients/Polys/EnergyPhsPolys.txt\")"
   ]
  },
  {
   "cell_type": "code",
   "execution_count": null,
   "metadata": {},
   "outputs": [],
   "source": [
    "#these to be replaced\n",
    "def ReadAmpGradient(i):\n",
    "    bins=np.arange(1,Bins+1)\n",
    "    return np.poly1d(AmpPolys[i])(bins)\n",
    "\n",
    "\n",
    "def ReadPhsGradient(i):\n",
    "    bins=np.arange(1,Bins+1)\n",
    "    return np.poly1d(PhsPolys[i-1])(bins)\n"
   ]
  },
  {
   "cell_type": "code",
   "execution_count": null,
   "metadata": {},
   "outputs": [],
   "source": [
    "AmpGradients=[]\n",
    "PhsGradients=[]\n",
    "for i in range(0,Modes):\n",
    "    AmpGradients.append(ReadAmpGradient(i))\n",
    "    if(i>0):\n",
    "        PhsGradients.append(ReadPhsGradient(i))\n",
    "    else:\n",
    "        PhsGradients.append(0)\n",
    "AllGradients=AmpGradients+PhsGradients[1:] #first phase is unphysical"
   ]
  },
  {
   "cell_type": "code",
   "execution_count": null,
   "metadata": {},
   "outputs": [],
   "source": [
    "Jacobian=np.ndarray(shape=(Bins,Modes*2-1))\n",
    "for i in range(0,Bins):\n",
    "    for j in range(0,Modes):\n",
    "        Jacobian[i,j]=AmpGradients[j][i]\n",
    "for i in range(0,Bins):\n",
    "    for j in range(0,Modes-1):\n",
    "        Jacobian[i,Modes+j]=PhsGradients[j+1][i]"
   ]
  },
  {
   "cell_type": "code",
   "execution_count": null,
   "metadata": {},
   "outputs": [],
   "source": [
    "pylab.figure(figsize=(4,4),dpi=250)\n",
    "pylab.imshow(Jacobian,interpolation='none',cmap='RdBu')\n",
    "pylab.colorbar(orientation='vertical')\n",
    "pylab.title(\"Jacobian Nuisance -> Bins\")\n",
    "pylab.xlabel(\"Nuisance Param\")\n",
    "pylab.ylabel(\"Analysis Bin\")\n",
    "pylab.xticks(range(0,2*Modes-1))\n",
    "pylab.yticks(range(len(Jacobian)))\n",
    "pylab.tight_layout()\n",
    "pylab.savefig(\"/data/ana/NuFSGenMC/MultiSim/MultisimOutputs/Matrices/Plots/EnergyJacobain.png\",dpi=250,bbox_inches='tight')"
   ]
  },
  {
   "cell_type": "code",
   "execution_count": null,
   "metadata": {},
   "outputs": [],
   "source": [
    "path=\"/data/ana/NuFSGenMC/MultiSim/MultisimOutputs/Constraints/Widths/\"\n",
    "gen1s_amp=np.loadtxt(\"/data/ana/NuFSGenMC/MultiSim/MultisimOutputs/Constraints/Models/models_1sig/AmpOneSigmas.txt\")\n",
    "gen1s_phs=np.loadtxt(\"/data/ana/NuFSGenMC/MultiSim/MultisimOutputs/Constraints/Models/models_1sig/PhsOneSigmas.txt\")\n",
    "calc1s_amp=np.loadtxt(\"/data/ana/NuFSGenMC/MultiSim/MultisimOutputs/Constraints/Widths/AmpWidths.txt\")\n",
    "calc1s_phs=np.loadtxt(\"/data/ana/NuFSGenMC/MultiSim/MultisimOutputs/Constraints/Widths/PhsWidths.txt\")\n",
    "\n",
    "ampamp = np.loadtxt(path+\"/AmpAmpWidths.txt\")\n",
    "phsphs = np.loadtxt(path+\"/PhsPhsWidths.txt\")\n",
    "ampphs = np.loadtxt(path+\"/AmpPhsWidths.txt\")\n",
    "Matrix=np.ndarray(shape=(Modes+Modes-1,Modes+Modes-1))\n",
    "Matrix=np.zeros_like(Matrix)\n",
    "for i in range(0, Modes):\n",
    "    for j in range(0, i):\n",
    "        mask1=(ampamp[:,0]==i)*(ampamp[:,1]==j)\n",
    "        Matrix[i,j]=(ampamp[mask1][0][4]-ampamp[mask1][0][2])\n",
    "\n",
    "for i in range(1, Modes):\n",
    "    for j in range(1, i):\n",
    "        mask1=(phsphs[:,0]==i)*(phsphs[:,1]==j)\n",
    "        Matrix[i+Modes-1,j+Modes-1]=phsphs[mask1][0][4]-phsphs[mask1][0][2]\n",
    "\n",
    "\n",
    "for i in range(1, Modes):\n",
    "    for j in range(0, Modes):\n",
    "        mask1=(ampphs[:,0]==j)*(ampphs[:,1]==i)\n",
    "        Matrix[i+Modes-1,j]=ampphs[mask1][0][4]-ampphs[mask1][0][2]\n",
    "        \n",
    "for i in range(0,len(Matrix)):\n",
    "    for j in range(0, i):\n",
    "        Matrix[j,i]=Matrix[i,j]\n",
    "    Matrix[i,i]=1\n",
    "#pylab.title(\"Full Hessian in Nuisance Space\")\n",
    "    "
   ]
  },
  {
   "cell_type": "code",
   "execution_count": null,
   "metadata": {},
   "outputs": [],
   "source": [
    "pylab.figure(figsize=(4,4),dpi=300)   \n",
    "\n",
    "\n",
    "im =pylab.imshow(Matrix,cmap='RdBu')\n",
    "pylab.clim(0,2)\n",
    "pylab.plot([-0.5,2.*Modes-1.5],[Modes-0.5,Modes-0.5],'--',color='black')\n",
    "pylab.plot([Modes-0.5,Modes-0.5],[-0.5,2.*Modes-1.5],'--',color='black')\n",
    "\n",
    "XTickNames=[]\n",
    "for i in range(0,Modes):\n",
    "    XTickNames.append(\"Amp \"+str(i))\n",
    "for i in range(1,Modes):\n",
    "    XTickNames.append(\"Phs \"+str(i))\n",
    "    \n",
    "pylab.xticks(range(2*Modes+1),XTickNames,rotation=90)\n",
    "pylab.yticks(range(2*Modes+1),XTickNames)\n",
    "pylab.xlim(-0.5,2*Modes-1.5)\n",
    "pylab.ylim(2*Modes-1.5,-0.5)\n",
    "ax=pylab.gca()\n",
    "\n",
    "ax.xaxis.tick_top()\n",
    "divider = make_axes_locatable(ax)\n",
    "cax = divider.append_axes(\"right\", size=\"5%\", pad=0.05)\n",
    "\n",
    "pylab.colorbar(im, cax=cax)\n",
    "pylab.tight_layout()\n",
    "\n",
    "pylab.savefig(\"/data/ana/NuFSGenMC/MultiSim/MultisimOutputs/Matrices/Plots/WidthMatrix.png\",dpi=250,bbox_inches='tight')\n",
    "\n"
   ]
  },
  {
   "cell_type": "code",
   "execution_count": null,
   "metadata": {},
   "outputs": [],
   "source": [
    "Matrix**-1"
   ]
  },
  {
   "cell_type": "code",
   "execution_count": null,
   "metadata": {},
   "outputs": [],
   "source": [
    "NuisHessian=np.ones_like(Matrix)\n",
    "for i in range(0,2*Modes-1):\n",
    "    for j in range(0,2*Modes-1):\n",
    "        if (i != j ):\n",
    "            NuisHessian[i,j]= Matrix[i,j]**-2-1."
   ]
  },
  {
   "cell_type": "code",
   "execution_count": null,
   "metadata": {},
   "outputs": [],
   "source": [
    "pylab.figure(figsize=(4,4),dpi=300)   \n",
    "\n",
    "\n",
    "im =pylab.imshow(NuisHessian,cmap='RdBu')\n",
    "pylab.clim(-1,1)\n",
    "pylab.plot([-0.5,2.*Modes-1.5],[Modes-0.5,Modes-0.5],'--',color='black')\n",
    "pylab.plot([Modes-0.5,Modes-0.5],[-0.5,2.*Modes-1.5],'--',color='black')\n",
    "\n",
    "XTickNames=[]\n",
    "for i in range(0,Modes):\n",
    "    XTickNames.append(\"Amp \"+str(i))\n",
    "for i in range(1,Modes):\n",
    "    XTickNames.append(\"Phs \"+str(i))\n",
    "    \n",
    "pylab.xticks(range(2*Modes+1),XTickNames,rotation=90)\n",
    "pylab.yticks(range(2*Modes+1),XTickNames)\n",
    "pylab.xlim(-0.5,2*Modes-1.5)\n",
    "pylab.ylim(2*Modes-1.5,-0.5)\n",
    "ax=pylab.gca()\n",
    "\n",
    "ax.xaxis.tick_top()\n",
    "divider = make_axes_locatable(ax)\n",
    "cax = divider.append_axes(\"right\", size=\"5%\", pad=0.05)\n",
    "\n",
    "pylab.colorbar(im, cax=cax)\n",
    "pylab.tight_layout()\n",
    "\n",
    "pylab.savefig(\"/data/ana/NuFSGenMC/MultiSim/MultisimOutputs/Matrices/Plots/HessianMatrix.png\",dpi=250,bbox_inches='tight')\n",
    "\n"
   ]
  },
  {
   "cell_type": "code",
   "execution_count": null,
   "metadata": {},
   "outputs": [],
   "source": [
    "CovNuis=np.linalg.inv(NuisHessian)"
   ]
  },
  {
   "cell_type": "code",
   "execution_count": null,
   "metadata": {},
   "outputs": [],
   "source": [
    "np.transpose(np.transpose(Priors*CovNuis)*Priors)"
   ]
  },
  {
   "cell_type": "code",
   "execution_count": null,
   "metadata": {},
   "outputs": [],
   "source": [
    "pylab.figure(figsize=(4,4),dpi=300)   \n",
    "\n",
    "\n",
    "im =pylab.imshow(CovNuis,cmap='RdBu')\n",
    "pylab.clim(-10,10)\n",
    "pylab.plot([-0.5,2.*Modes-1.5],[Modes-0.5,Modes-0.5],'--',color='black')\n",
    "pylab.plot([Modes-0.5,Modes-0.5],[-0.5,2.*Modes-1.5],'--',color='black')\n",
    "\n",
    "XTickNames=[]\n",
    "for i in range(0,Modes):\n",
    "    XTickNames.append(\"Amp \"+str(i))\n",
    "for i in range(1,Modes):\n",
    "    XTickNames.append(\"Phs \"+str(i))\n",
    "    \n",
    "pylab.xticks(range(2*Modes+1),XTickNames,rotation=90)\n",
    "pylab.yticks(range(2*Modes+1),XTickNames)\n",
    "pylab.xlim(-0.5,2*Modes-1.5)\n",
    "pylab.ylim(2*Modes-1.5,-0.5)\n",
    "ax=pylab.gca()\n",
    "\n",
    "ax.xaxis.tick_top()\n",
    "divider = make_axes_locatable(ax)\n",
    "cax = divider.append_axes(\"right\", size=\"5%\", pad=0.05)\n",
    "\n",
    "pylab.colorbar(im, cax=cax)\n",
    "pylab.tight_layout()\n",
    "\n",
    "pylab.savefig(\"/data/ana/NuFSGenMC/MultiSim/MultisimOutputs/Matrices/Plots/NuisanceCovariance.png\",dpi=250,bbox_inches='tight')\n",
    "\n",
    "\n"
   ]
  },
  {
   "cell_type": "code",
   "execution_count": null,
   "metadata": {},
   "outputs": [],
   "source": [
    "CovBins=Jacobian.dot(CovNuis).dot(np.transpose(Jacobian))"
   ]
  },
  {
   "cell_type": "code",
   "execution_count": null,
   "metadata": {},
   "outputs": [],
   "source": [
    "pylab.figure(figsize=(4,4),dpi=300)   \n",
    "im =pylab.imshow(CovBins,interpolation='nearest',cmap='RdBu')\n",
    "\n",
    "pylab.clim(-np.max(np.abs(CovBins)),np.max(np.abs(CovBins)))\n",
    "pylab.xlabel(\"Energy Bin\")\n",
    "pylab.ylabel(\"Energy Bin\")\n",
    "\n",
    "\n",
    "ax=pylab.gca()\n",
    "pylab.xticks(range(len(CovBins)))\n",
    "pylab.yticks(range(len(CovBins)))\n",
    "ax.xaxis.tick_top()\n",
    "ax.xaxis.label_position='top'\n",
    "ax.xaxis.labelpad=15\n",
    "pylab.xlim(-0.5,12.5)\n",
    "pylab.ylim(12.5,-0.5)\n",
    "\n",
    "\n",
    "\n",
    "\n",
    "divider = make_axes_locatable(ax)\n",
    "cax = divider.append_axes(\"right\", size=\"5%\", pad=0.05)\n",
    "\n",
    "pylab.colorbar(im, cax=cax)\n",
    "pylab.tight_layout()\n",
    "\n",
    "pylab.savefig(\"/data/ana/NuFSGenMC/MultiSim/MultisimOutputs/Matrices/Plots/BinnedCovariance.png\",dpi=250,bbox_inches='tight')\n",
    "\n",
    "\n"
   ]
  },
  {
   "cell_type": "code",
   "execution_count": null,
   "metadata": {},
   "outputs": [],
   "source": [
    "pylab.savetxt(\"/data/ana/NuFSGenMC/MultiSim/MultisimOutputs/Matrices/NuisanceCovariance.txt\",CovNuis)\n",
    "pylab.savetxt(\"/data/ana/NuFSGenMC/MultiSim/MultisimOutputs/Matrices/AnalysisCovariance.txt\",CovBins)"
   ]
  },
  {
   "cell_type": "code",
   "execution_count": null,
   "metadata": {},
   "outputs": [],
   "source": []
  },
  {
   "cell_type": "code",
   "execution_count": null,
   "metadata": {},
   "outputs": [],
   "source": []
  },
  {
   "cell_type": "code",
   "execution_count": null,
   "metadata": {},
   "outputs": [],
   "source": []
  },
  {
   "cell_type": "code",
   "execution_count": null,
   "metadata": {},
   "outputs": [],
   "source": [
    "CovMatrixNew=numpy.diag(1./numpy.diag(HessianHeseToys))"
   ]
  },
  {
   "cell_type": "code",
   "execution_count": null,
   "metadata": {},
   "outputs": [],
   "source": [
    "pylab.plot(numpy.diag(HessianHeseToys))"
   ]
  },
  {
   "cell_type": "code",
   "execution_count": null,
   "metadata": {},
   "outputs": [],
   "source": [
    "numpy.diag(HessianHeseToys)[11]"
   ]
  },
  {
   "cell_type": "code",
   "execution_count": null,
   "metadata": {},
   "outputs": [],
   "source": [
    "pylab.figure(figsize=(5,5),dpi=200)\n",
    "pylab.plot(numpy.sqrt(numpy.diag(CovBinsHese)),label='HESE Toys')\n",
    "pylab.plot(numpy.sqrt(numpy.diag(CovBins)),label='Multisim')\n",
    "pylab.legend(loc='upper right')\n",
    "pylab.ylim(0,0.1)\n",
    "pylab.ylabel(\"Uncertainty\")\n",
    "pylab.xlabel(\"MEOWS Energy Bin\")\n"
   ]
  },
  {
   "cell_type": "code",
   "execution_count": null,
   "metadata": {},
   "outputs": [],
   "source": [
    "CovHeseIceEllipse=numpy.zeros_like(CovNuisHeseToys)\n",
    "CovHeseIceEllipse[0,0]=((numpy.log10(1.1*1.0)/2.)**2/0.0100164210622**2)"
   ]
  },
  {
   "cell_type": "code",
   "execution_count": null,
   "metadata": {},
   "outputs": [],
   "source": [
    "pylab.figure(figsize=(5,5),dpi=200)\n",
    "pylab.imshow(CovHeseIceEllipse,cmap='RdBu')\n",
    "pylab.clim(-5,5)\n",
    "pylab.colorbar()\n",
    "pylab.title(\"Nuisance Covariance\")\n",
    "pylab.xlabel(\"Nuisance1\")\n",
    "pylab.ylabel(\"Nuisance2\")"
   ]
  },
  {
   "cell_type": "code",
   "execution_count": null,
   "metadata": {},
   "outputs": [],
   "source": [
    "TotalCovHese=CovHeseIceEllipse+CovNuisHeseToys\n",
    "CovBinsHeseEllipse=Jacobian.dot(CovHeseIceEllipse).dot(numpy.transpose(Jacobian))\n",
    "CovBinsHeseTotal=Jacobian.dot(TotalCovHese).dot(numpy.transpose(Jacobian))\n",
    "\n",
    "\n"
   ]
  },
  {
   "cell_type": "code",
   "execution_count": null,
   "metadata": {},
   "outputs": [],
   "source": [
    "pylab.imshow(CovBinsHeseTotal,interpolation='nearest',cmap='RdBu')\n",
    "pylab.colorbar()\n",
    "#pylab.clim(-numpy.max(numpy.abs(CovBins)),numpy.max(numpy.abs(CovBins)))\n",
    "pylab.clim(-numpy.max(numpy.abs(CovBinsHeseTotal)),numpy.max(numpy.abs(CovBinsHeseTotal)))\n",
    "pylab.xlabel(\"Analysis Bin\")\n",
    "pylab.ylabel(\"Analysis Bin\")\n",
    "pylab.title(\"Covariance in Binned Space\")"
   ]
  },
  {
   "cell_type": "code",
   "execution_count": null,
   "metadata": {},
   "outputs": [],
   "source": [
    "pylab.imshow(CovBinsHese,interpolation='nearest',cmap='RdBu')\n",
    "pylab.colorbar()\n",
    "#pylab.clim(-numpy.max(numpy.abs(CovBins)),numpy.max(numpy.abs(CovBins)))\n",
    "pylab.clim(-numpy.max(numpy.abs(CovBinsHeseTotal)),numpy.max(numpy.abs(CovBinsHeseTotal)))\n",
    "pylab.xlabel(\"Analysis Bin\")\n",
    "pylab.ylabel(\"Analysis Bin\")\n",
    "pylab.title(\"Covariance in Binned Space\")"
   ]
  },
  {
   "cell_type": "code",
   "execution_count": null,
   "metadata": {},
   "outputs": [],
   "source": [
    "pylab.figure(figsize=(5,5),dpi=200)\n",
    "pylab.plot(numpy.sqrt(numpy.diag(CovBinsHese)),label='HESE Toys')\n",
    "pylab.plot(numpy.sqrt(numpy.diag(CovBinsHeseEllipse)),label='HESE Ellipse')\n",
    "pylab.plot(numpy.sqrt(numpy.diag(CovBinsHeseTotal)),label='HESE Sum')\n",
    "pylab.plot(numpy.sqrt(numpy.diag(CovBins)),label='Multisim, Default')\n",
    "pylab.plot(numpy.sqrt(numpy.diag(CovBins))*0.76,'--',label='Multisim, Dima Threshold',color='DarkRed')\n",
    "pylab.xlabel(\"MEOWS Energy Bin\")\n",
    "pylab.ylabel(\"Uncertainty \")\n",
    "pylab.ylim(0,0.12)\n",
    "pylab.legend(loc='upper left',ncol=2)"
   ]
  },
  {
   "cell_type": "code",
   "execution_count": null,
   "metadata": {},
   "outputs": [],
   "source": [
    "gen1s=np.loadtxt(\"/data/ana/NuFSGenMC/MultiSim/MultisimOutputs/Constraints/Models/models_1sig/AmpOneSigmas.txt\")\n",
    "calc1s=np.loadtxt(\"/data/ana/NuFSGenMC/MultiSim/MultisimOutputs/Constraints/Widths/AmpWidths.txt\")"
   ]
  },
  {
   "cell_type": "code",
   "execution_count": null,
   "metadata": {},
   "outputs": [],
   "source": [
    "pylab.plot(calc1s[:,0],(calc1s[:,3]-calc1s[:,1])/(gen1s[:,3]-gen1s[:,1]),'o')\n",
    "#pylab.plot(gen1s[:,0],gen1s[:,3]-gen1s[:,1],'.')\n",
    "#pylab.ylim(0,0.25)"
   ]
  },
  {
   "cell_type": "code",
   "execution_count": null,
   "metadata": {},
   "outputs": [],
   "source": [
    "gen1s=np.loadtxt(\"/data/ana/NuFSGenMC/MultiSim/MultisimOutputs/Constraints/Models/models_1sig/PhsOneSigmas.txt\")\n",
    "calc1s=np.loadtxt(\"/data/ana/NuFSGenMC/MultiSim/MultisimOutputs/Constraints/Widths/PhsWidths.txt\")\n",
    "pylab.plot(calc1s[:,0],(calc1s[:,3]-calc1s[:,1])/(gen1s[:,3]-gen1s[:,1]),'o')\n",
    "\n"
   ]
  },
  {
   "cell_type": "code",
   "execution_count": null,
   "metadata": {},
   "outputs": [],
   "source": [
    "calc1s"
   ]
  },
  {
   "cell_type": "code",
   "execution_count": null,
   "metadata": {},
   "outputs": [],
   "source": [
    "CorrFactor"
   ]
  },
  {
   "cell_type": "code",
   "execution_count": null,
   "metadata": {},
   "outputs": [],
   "source": []
  }
 ],
 "metadata": {
  "kernelspec": {
   "display_name": "Python 2",
   "language": "python",
   "name": "python2"
  },
  "language_info": {
   "codemirror_mode": {
    "name": "ipython",
    "version": 2
   },
   "file_extension": ".py",
   "mimetype": "text/x-python",
   "name": "python",
   "nbconvert_exporter": "python",
   "pygments_lexer": "ipython2",
   "version": "2.7.13"
  }
 },
 "nbformat": 4,
 "nbformat_minor": 1
}
