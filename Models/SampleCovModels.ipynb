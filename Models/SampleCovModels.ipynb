{
 "cells": [
  {
   "cell_type": "code",
   "execution_count": null,
   "metadata": {},
   "outputs": [],
   "source": [
    "import numpy as np\n",
    "import pylab\n",
    "%matplotlib inline\n",
    "from mpl_toolkits.axes_grid1 import make_axes_locatable\n",
    "import MyMultiSimTools as mst\n",
    "\n"
   ]
  },
  {
   "cell_type": "code",
   "execution_count": null,
   "metadata": {},
   "outputs": [],
   "source": [
    "NuisCov=np.loadtxt(\"/data/ana/NuFSGenMC/MultiSim/MultisimOutputs/Matrices/NuisanceCovariance.txt\")"
   ]
  },
  {
   "cell_type": "code",
   "execution_count": null,
   "metadata": {},
   "outputs": [],
   "source": [
    "Modes=4"
   ]
  },
  {
   "cell_type": "code",
   "execution_count": null,
   "metadata": {},
   "outputs": [],
   "source": [
    "Amp1sig=np.loadtxt(\"/data/ana/NuFSGenMC/MultiSim/MultisimOutputs/Constraints/Widths/AmpWidths.txt\")\n",
    "Phs1sig=np.loadtxt(\"/data/ana/NuFSGenMC/MultiSim/MultisimOutputs/Constraints/Widths/PhsWidths.txt\")\n",
    "\n",
    "AmpWidths=Amp1sig[0:Modes+1,3]-Amp1sig[0:Modes+1,1]\n",
    "PhsWidths=Phs1sig[0:Modes,3]-Phs1sig[0:Modes,1]\n",
    "\n",
    "AmpCentral=Amp1sig[0:Modes+1,1]\n",
    "PhsCentral=Amp1sig[0:Modes,1]\n",
    "\n",
    "amp_modes=range(0,Modes+1)\n",
    "phs_modes=range(1,Modes+1)"
   ]
  },
  {
   "cell_type": "code",
   "execution_count": null,
   "metadata": {},
   "outputs": [],
   "source": [
    "bestfit= mst.GetIcemodel( central, \n",
    "                                    amp_modes_to_shift  = amp_modes, \n",
    "                                    amp_shifts          = AmpCentral,\n",
    "                                    phs_modes_to_shift  = phs_modes,\n",
    "                                    phs_shifts          = PhsCentral)\n",
    "\n",
    "mode0pert= mst.GetIcemodel( central, \n",
    "                                    amp_modes_to_shift  = [0], \n",
    "                                    amp_shifts          = [AmpWidths[0]])"
   ]
  },
  {
   "cell_type": "code",
   "execution_count": null,
   "metadata": {},
   "outputs": [],
   "source": [
    "icepath = \"./Dima_Icemodel.dat\"\n",
    "central = mst.LoadIcedata(icepath)\n",
    "depth=1948-central[0]\n",
    "outdir = \"./models/\"\n",
    "\n",
    "ModelsToRun=5000\n",
    "AllModels=[]\n",
    "for i in range(0,ModelsToRun):\n",
    "    Realization=np.random.multivariate_normal(np.zeros(9),NuisCov)\n",
    "    amp_shifts=Realization[0:5]*AmpWidths\n",
    "    phs_shifts=Realization[5:9]*PhsWidths\n",
    "    \n",
    "    pert_amp = mst.GetIcemodel( central, \n",
    "                                    amp_modes_to_shift  = amp_modes, \n",
    "                                    amp_shifts          = amp_shifts,\n",
    "                                    phs_modes_to_shift  = phs_modes,\n",
    "                                    phs_shifts          = phs_shifts)\n",
    "    AllModels.append(pert_amp[1])\n",
    "    if (i%100==0):\n",
    "        print i\n",
    "\n",
    "\n",
    "AllModes=np.array(AllModels)"
   ]
  },
  {
   "cell_type": "code",
   "execution_count": null,
   "metadata": {},
   "outputs": [],
   "source": [
    "freq68=[]\n",
    "freq95=[]\n",
    "freq99=[]\n",
    "AbsFracShift=[]\n",
    "TopLine=1000\n",
    "pylab.figure(figsize=(6,3.5),dpi=300)\n",
    "for i in range(0,TopLine):\n",
    "    AbsFracShift.append(np.abs(AllModels[i]/central[1]-1))\n",
    "    \n",
    "for fs in np.transpose(AbsFracShift):\n",
    "    freq68.append(sorted(fs)[int(len(fs)*0.68)])\n",
    "    freq95.append(sorted(fs)[int(len(fs)*0.95)])\n",
    "    freq99.append(sorted(fs)[int(len(fs)*0.99)])\n",
    "SDs=[]\n",
    "for i in np.transpose(AllModes):\n",
    "    SDs.append(np.std(i))\n",
    "    \n",
    "\n",
    "for i in range(0, TopLine):\n",
    "    pylab.plot(depth,AbsFracShift[i],alpha=0.02,color='blue',linewidth=1)\n",
    "pylab.plot(depth,freq68,'-',color='red',linewidth=3,label='68 %')\n",
    "pylab.plot(depth,freq95,'--',color='red',linewidth=3,label='95 %')\n",
    "pylab.plot(depth,freq99,':',color='red',linewidth=3,label='99 %')\n",
    "\n",
    "    #pylab.errorbar(central[0],Means/central[1], yerr=SDs/central[1],fmt='o')\n",
    "pylab.ylim(0,0.5)\n",
    "pylab.xlim(-700,700)\n",
    "pylab.ylim()\n",
    "pylab.ylabel(\"Absolute fractional shift\")\n",
    "pylab.xlabel(\"Depth / m\"),\n",
    "pylab.title(\"Including mode correlations\")\n",
    "pylab.legend(loc='upper center',ncol=3,title='Envelopes')\n",
    "pylab.tight_layout()\n",
    "pylab.savefig(\"/data/ana/NuFSGenMC/MultiSim/MultisimOutputs/Envelope/AbsFracShift.png\",dpi=300,bbox_inches='tight')"
   ]
  },
  {
   "cell_type": "code",
   "execution_count": null,
   "metadata": {},
   "outputs": [],
   "source": [
    "pylab.figure(figsize=(6,3.5),dpi=300)\n",
    "\n",
    "\n",
    "\n",
    "pylab.plot(depth, freq68,color='DarkRed',alpha=1,label=r'MultiSim, modes 0-4, Freq 68%',linewidth=2)\n",
    "pylab.plot(depth, SDs/central[1],'--',color='DarkRed',alpha=1,label=r'MultiSim, modes 0-4, SD $1\\sigma$',linewidth=2)\n",
    "\n",
    "#pylab.plot(depth ,bestfit[1]/central[1]-1.,color='DarkRed',label=r'MultiSim 4-mode best fit')\n",
    "\n",
    "\n",
    "pylab.plot(depth,1.-mode0pert[1]/central[1],color='DarkBlue',alpha=1.0,label='Multisim, mode 0 only',linewidth=2)\n",
    "pylab.plot(depth,np.ones_like(bestfit[1])*0.1,color='dimgrey',alpha=1.0,label='SpiceMie Ice Ellipse',linewidth=2)\n",
    "\n",
    "\n",
    "#pylab.ylim(0,0.25)\n",
    "pylab.xlim(-700,700)\n",
    "pylab.ylim(0,0.2)\n",
    "pylab.legend(loc='upper center',ncol=1,title='Uncertainty Comparison')\n",
    "pylab.ylabel(\"Absolute Fracitonal Shift\")\n",
    "pylab.xlabel(\"Depth / m\")\n",
    "pylab.tight_layout()\n",
    "pylab.savefig(\"/data/ana/NuFSGenMC/MultiSim/MultisimOutputs/Envelope/ModelComparison.png\",dpi=300,bbox_inches='tight')"
   ]
  },
  {
   "cell_type": "code",
   "execution_count": null,
   "metadata": {},
   "outputs": [],
   "source": [
    "np.diag(np.diag(NuisCov))"
   ]
  },
  {
   "cell_type": "code",
   "execution_count": null,
   "metadata": {},
   "outputs": [],
   "source": [
    "icepath = \"./Dima_Icemodel.dat\"\n",
    "central = mst.LoadIcedata(icepath)\n",
    "depth=1948-central[0]\n",
    "outdir = \"./models/\"\n",
    "\n",
    "ModelsToRun=5000\n",
    "AllModels=[]\n",
    "DiagCov=np.diag(np.diag(NuisCov))\n",
    "for i in range(0,ModelsToRun):\n",
    "    Realization=np.random.multivariate_normal(np.zeros(9),DiagCov)\n",
    "    amp_shifts=Realization[0:5]*AmpWidths\n",
    "    phs_shifts=Realization[5:9]*PhsWidths\n",
    "    \n",
    "    pert_amp = mst.GetIcemodel( central, \n",
    "                                    amp_modes_to_shift  = amp_modes, \n",
    "                                    amp_shifts          = amp_shifts,\n",
    "                                    phs_modes_to_shift  = phs_modes,\n",
    "                                    phs_shifts          = phs_shifts)\n",
    "    AllModels.append(pert_amp[1])\n",
    "    if (i%100==0):\n",
    "        print i\n",
    "\n",
    "\n",
    "AllModes=np.array(AllModels)"
   ]
  },
  {
   "cell_type": "code",
   "execution_count": null,
   "metadata": {},
   "outputs": [],
   "source": [
    "freq68=[]\n",
    "freq95=[]\n",
    "freq99=[]\n",
    "AbsFracShift=[]\n",
    "TopLine=1000\n",
    "pylab.figure(figsize=(6,3.5),dpi=300)\n",
    "for i in range(0,TopLine):\n",
    "    AbsFracShift.append(np.abs(AllModels[i]/central[1]-1))\n",
    "    \n",
    "for fs in np.transpose(AbsFracShift):\n",
    "    freq68.append(sorted(fs)[int(len(fs)*0.68)])\n",
    "    freq95.append(sorted(fs)[int(len(fs)*0.95)])\n",
    "    freq99.append(sorted(fs)[int(len(fs)*0.99)])\n",
    "SDs=[]\n",
    "for i in np.transpose(AllModes):\n",
    "    SDs.append(np.std(i))\n",
    "    \n",
    "\n",
    "for i in range(0, TopLine):\n",
    "    pylab.plot(central[0],AbsFracShift[i],alpha=0.02,color='blue',linewidth=1)\n",
    "pylab.plot(central[0],freq68,'-',color='red',linewidth=3,label='68 %')\n",
    "pylab.plot(central[0],freq95,'--',color='red',linewidth=3,label='95 %')\n",
    "pylab.plot(central[0],freq99,':',color='red',linewidth=3,label='99 %')\n",
    "\n",
    "    #pylab.errorbar(central[0],Means/central[1], yerr=SDs/central[1],fmt='o')\n",
    "pylab.ylim(0,0.5)\n",
    "pylab.xlim(1200,2700)\n",
    "pylab.ylim()\n",
    "pylab.ylabel(\"Absolute fractional shift\")\n",
    "pylab.xlabel(\"Depth / m\"),\n",
    "pylab.legend(loc='upper center',ncol=3,title='Envelopes')\n",
    "pylab.tight_layout()\n",
    "pylab.title(\"Neglecting mode correlations\")\n",
    "pylab.savefig(\"/data/ana/NuFSGenMC/MultiSim/MultisimOutputs/Envelope/AbsFracShiftNoCorr.png\",dpi=300,bbox_inches='tight')"
   ]
  },
  {
   "cell_type": "code",
   "execution_count": null,
   "metadata": {},
   "outputs": [],
   "source": []
  }
 ],
 "metadata": {
  "kernelspec": {
   "display_name": "Python 2",
   "language": "python",
   "name": "python2"
  },
  "language_info": {
   "codemirror_mode": {
    "name": "ipython",
    "version": 2
   },
   "file_extension": ".py",
   "mimetype": "text/x-python",
   "name": "python",
   "nbconvert_exporter": "python",
   "pygments_lexer": "ipython2",
   "version": "2.7.13"
  }
 },
 "nbformat": 4,
 "nbformat_minor": 1
}
